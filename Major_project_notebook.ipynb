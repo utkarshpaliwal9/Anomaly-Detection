{
  "nbformat": 4,
  "nbformat_minor": 0,
  "metadata": {
    "colab": {
      "name": "Major project notebook.ipynb",
      "provenance": [],
      "collapsed_sections": [],
      "include_colab_link": true
    },
    "kernelspec": {
      "name": "python3",
      "display_name": "Python 3"
    },
    "accelerator": "GPU"
  },
  "cells": [
    {
      "cell_type": "markdown",
      "metadata": {
        "id": "view-in-github",
        "colab_type": "text"
      },
      "source": [
        "<a href=\"https://colab.research.google.com/github/utkarshpaliwal9/Anomaly-Detection/blob/master/Major_project_notebook.ipynb\" target=\"_parent\"><img src=\"https://colab.research.google.com/assets/colab-badge.svg\" alt=\"Open In Colab\"/></a>"
      ]
    },
    {
      "cell_type": "markdown",
      "metadata": {
        "id": "IvXjAHsbcKY7",
        "colab_type": "text"
      },
      "source": [
        "## Criminal Activity Recognition"
      ]
    },
    {
      "cell_type": "code",
      "metadata": {
        "id": "ylTxivSXbaBw",
        "colab_type": "code",
        "outputId": "e6fea5a4-326a-4983-92ec-18f2a1d7344d",
        "colab": {
          "base_uri": "https://localhost:8080/",
          "height": 122
        }
      },
      "source": [
        "from google.colab import drive\n",
        "drive.mount('/content/drive')"
      ],
      "execution_count": 0,
      "outputs": [
        {
          "output_type": "stream",
          "text": [
            "Go to this URL in a browser: https://accounts.google.com/o/oauth2/auth?client_id=947318989803-6bn6qk8qdgf4n4g3pfee6491hc0brc4i.apps.googleusercontent.com&redirect_uri=urn%3aietf%3awg%3aoauth%3a2.0%3aoob&response_type=code&scope=email%20https%3a%2f%2fwww.googleapis.com%2fauth%2fdocs.test%20https%3a%2f%2fwww.googleapis.com%2fauth%2fdrive%20https%3a%2f%2fwww.googleapis.com%2fauth%2fdrive.photos.readonly%20https%3a%2f%2fwww.googleapis.com%2fauth%2fpeopleapi.readonly\n",
            "\n",
            "Enter your authorization code:\n",
            "··········\n",
            "Mounted at /content/drive\n"
          ],
          "name": "stdout"
        }
      ]
    },
    {
      "cell_type": "code",
      "metadata": {
        "id": "ossgjxLiHxjB",
        "colab_type": "code",
        "colab": {}
      },
      "source": [
        "import os\n",
        "import pandas as pd\n",
        "# os.chdir('/content/drive/My Drive/Project')\n",
        "# data = pd.read_csv('CrimeDS.txt', sep=\"\\n\", header=None)\n",
        "# print(data.iloc[0].values[0])\n",
        "os.chdir('/content/drive/My Drive/Project/AnomalyVideos')"
      ],
      "execution_count": 0,
      "outputs": []
    },
    {
      "cell_type": "code",
      "metadata": {
        "id": "K12tg9E9yO-G",
        "colab_type": "code",
        "colab": {}
      },
      "source": [
        "data = []\n",
        "\n",
        "for name in os.listdir():\n",
        "  if(name[len(name)-1] == '4'):\n",
        "    data.append(name)"
      ],
      "execution_count": 0,
      "outputs": []
    },
    {
      "cell_type": "code",
      "metadata": {
        "id": "f4OPr2YRzTkc",
        "colab_type": "code",
        "colab": {}
      },
      "source": [
        "# data"
      ],
      "execution_count": 0,
      "outputs": []
    },
    {
      "cell_type": "code",
      "metadata": {
        "id": "S6K-D8-ecIYb",
        "colab_type": "code",
        "colab": {}
      },
      "source": [
        "# !wget 'https://ucb7dca99505e76e54fa172ef606.dl.dropboxusercontent.com/cd/0/get/AwnTshqOOPemhrjTqZXlfp02PCkgNJSJt8jhllVUuRTJn90nr_5blsJzj0JrrIDnpQ2lApMyJKY3KTi_4saPTdvB3611txsv82RztoOYS5GARg/file?_download_id=011006157493155033421613254309845225599327459049660434941660553837&_notify_domain=www.dropbox.com&dl=1'"
      ],
      "execution_count": 0,
      "outputs": []
    },
    {
      "cell_type": "code",
      "metadata": {
        "id": "lP-IsF-5cIt2",
        "colab_type": "code",
        "colab": {}
      },
      "source": [
        "# !7z x '/content/anomaly_part2.zip'"
      ],
      "execution_count": 0,
      "outputs": []
    },
    {
      "cell_type": "code",
      "metadata": {
        "id": "04lD2v2CJWt-",
        "colab_type": "code",
        "colab": {}
      },
      "source": [
        "# import cv2\n",
        "# videos_info = []\n",
        "\n",
        "# for i in range(len(data)):\n",
        "#   name_of_video = data.iloc[i].values[0]\n",
        "#   class_of_video = \"\"\n",
        "#   cap = cv2.VideoCapture(name_of_video)\n",
        "#   length = int(cap.get(cv2.CAP_PROP_FRAME_COUNT))\n",
        "#   for j in range(len(name_of_video)):\n",
        "#     if name_of_video[j].isdigit() or name_of_video[j] == '_':\n",
        "#       break\n",
        "#     else:\n",
        "#       class_of_video += name_of_video[j]\n",
        "#   #print(i, str(i%11))\n",
        "#   #print((i % 11 == 1) or (i % 11 == 3) or (i % 11 == 7))\n",
        "#   if((i % 11 == 1) or (i % 11 == 3) or (i % 11 == 7)):\n",
        "#     videos_info.append([\"test\", class_of_video, name_of_video, length])\n",
        "#   else:\n",
        "#     videos_info.append([\"train\", class_of_video, name_of_video, length])\n",
        "\n",
        "# #print(videos_info, sep=\",\", end=\"\\n\")"
      ],
      "execution_count": 0,
      "outputs": []
    },
    {
      "cell_type": "code",
      "metadata": {
        "id": "IukbapY9mKCY",
        "colab_type": "code",
        "colab": {}
      },
      "source": [
        "import cv2\n",
        "videos_info = []\n",
        "\n",
        "for i in range(len(data)):\n",
        "  name_of_video = data[i]\n",
        "  class_of_video = \"\"\n",
        "  cap = cv2.VideoCapture(name_of_video)\n",
        "  length = int(cap.get(cv2.CAP_PROP_FRAME_COUNT))\n",
        "  if(\"Normal\" in name_of_video):\n",
        "    class_of_video = \"Normal\"\n",
        "  else:\n",
        "    class_of_video = \"Criminal\"\n",
        "\n",
        "  if(i%100 <= 10):\n",
        "    videos_info.append([\"test\", class_of_video, name_of_video, length])\n",
        "  else:\n",
        "    videos_info.append([\"train\", class_of_video, name_of_video, length])"
      ],
      "execution_count": 0,
      "outputs": []
    },
    {
      "cell_type": "code",
      "metadata": {
        "id": "JT-kvlm3a9so",
        "colab_type": "code",
        "colab": {}
      },
      "source": [
        "# print(videos_info, sep=\",\", end=\"\\n\")\n",
        "# new_df = [['train', 'Arrest', 'Arrest002_x264.mp4', 1790], ['test', 'Arrest', 'Arrest003_x264.mp4', 3054],['train', 'Normal', 'Normal_Videos011_x264.mp4', 897], ['test', 'Normal', 'Normal_Videos020_x264.mp4', 485]]"
      ],
      "execution_count": 0,
      "outputs": []
    },
    {
      "cell_type": "code",
      "metadata": {
        "id": "lfrRbmGdfP-W",
        "colab_type": "code",
        "colab": {}
      },
      "source": [
        "# videos_info"
      ],
      "execution_count": 0,
      "outputs": []
    },
    {
      "cell_type": "code",
      "metadata": {
        "id": "_pl63_GYTtEa",
        "colab_type": "code",
        "colab": {}
      },
      "source": [
        "# videos_df = pd.DataFrame(videos_info)\n",
        "# print(videos_df)\n",
        "# #include =['object', 'float', 'int'] \n",
        "# #videos_df.describe(include = include)"
      ],
      "execution_count": 0,
      "outputs": []
    },
    {
      "cell_type": "code",
      "metadata": {
        "id": "viYq7NaCbV8x",
        "colab_type": "code",
        "outputId": "f439b4a9-c600-435e-868b-14833ac4f49f",
        "colab": {
          "base_uri": "https://localhost:8080/",
          "height": 935
        }
      },
      "source": [
        "videos_df = pd.DataFrame(data= videos_info, columns= ['partition', 'class', 'video_name', 'frames'])\n",
        "print(\"Number of videos = \" + str(len(videos_df)) + \"\\n\\n\")\n",
        "print(videos_df[:50])"
      ],
      "execution_count": 0,
      "outputs": [
        {
          "output_type": "stream",
          "text": [
            "Number of videos = 300\n",
            "\n",
            "\n",
            "   partition     class          video_name  frames\n",
            "0       test  Criminal  Arrest001_x264.mp4    2374\n",
            "1       test  Criminal  Arrest002_x264.mp4    1790\n",
            "2       test  Criminal  Arrest003_x264.mp4    3054\n",
            "3       test  Criminal  Arrest004_x264.mp4    3603\n",
            "4       test  Criminal  Arrest005_x264.mp4    3685\n",
            "5       test  Criminal  Arrest006_x264.mp4    3090\n",
            "6       test  Criminal  Arrest009_x264.mp4    1713\n",
            "7       test  Criminal   Arson003_x264.mp4    4013\n",
            "8       test  Criminal   Arson009_x264.mp4     743\n",
            "9       test  Criminal  Arrest011_x264.mp4    2214\n",
            "10      test  Criminal  Arrest012_x264.mp4   16161\n",
            "11     train  Criminal   Arson018_x264.mp4     842\n",
            "12     train  Criminal   Arson019_x264.mp4  126553\n",
            "13     train  Criminal   Arson020_x264.mp4    2427\n",
            "14     train  Criminal   Arson012_x264.mp4     894\n",
            "15     train  Criminal   Arson015_x264.mp4   10230\n",
            "16     train  Criminal   Arson016_x264.mp4    1795\n",
            "17     train  Criminal   Arson014_x264.mp4    2634\n",
            "18     train  Criminal   Arson017_x264.mp4    1382\n",
            "19     train  Criminal   Arson021_x264.mp4    1441\n",
            "20     train  Criminal  Arrest016_x264.mp4   10586\n",
            "21     train  Criminal  Arrest018_x264.mp4    2434\n",
            "22     train  Criminal   Arson024_x264.mp4    3366\n",
            "23     train  Criminal  Arrest022_x264.mp4    1595\n",
            "24     train  Criminal  Arrest023_x264.mp4    1807\n",
            "25     train  Criminal  Arrest024_x264.mp4    3629\n",
            "26     train  Criminal   Arson041_x264.mp4    3754\n",
            "27     train  Criminal  Arrest037_x264.mp4    2132\n",
            "28     train  Criminal  Arrest038_x264.mp4    2193\n",
            "29     train  Criminal  Arrest039_x264.mp4   15835\n",
            "30     train  Criminal  Arrest048_x264.mp4    4077\n",
            "31     train  Criminal  Arrest041_x264.mp4    3847\n",
            "32     train  Criminal  Arrest042_x264.mp4    1590\n",
            "33     train  Criminal  Arrest043_x264.mp4   10799\n",
            "34     train  Criminal   Arson045_x264.mp4    3753\n",
            "35     train  Criminal  Arrest046_x264.mp4    7883\n",
            "36     train  Criminal   Arson046_x264.mp4    2073\n",
            "37     train  Criminal  Arrest047_x264.mp4   63060\n",
            "38     train  Criminal  Arrest051_x264.mp4   10800\n",
            "39     train  Criminal   Arson048_x264.mp4     411\n",
            "40     train  Criminal   Arson049_x264.mp4     386\n",
            "41     train  Criminal   Arson042_x264.mp4    5873\n",
            "42     train  Criminal  Arrest049_x264.mp4   11799\n",
            "43     train  Criminal  Arrest008_x264.mp4    6388\n",
            "44     train  Criminal  Arrest007_x264.mp4    3144\n",
            "45     train  Criminal  Arrest010_x264.mp4    2622\n",
            "46     train  Criminal  Arrest015_x264.mp4     976\n",
            "47     train  Criminal  Arrest013_x264.mp4    1116\n",
            "48     train  Criminal  Arrest014_x264.mp4    1536\n",
            "49     train  Criminal  Arrest017_x264.mp4    3432\n"
          ],
          "name": "stdout"
        }
      ]
    },
    {
      "cell_type": "code",
      "metadata": {
        "id": "UlW36haSpoAT",
        "colab_type": "code",
        "colab": {}
      },
      "source": [
        "# un = videos_df['partition'].unique()\n",
        "# print(un)\n",
        "# partitionwre = (videos_df.groupby(['partition']))\n",
        "# testw_re = partitionwre.get_group(un[0])\n",
        "# trainw_re = partitionwre.get_group(un[1])\n",
        "# print(len(trainw_re))\n",
        "# print(len(testw_re))"
      ],
      "execution_count": 0,
      "outputs": []
    },
    {
      "cell_type": "code",
      "metadata": {
        "id": "56N1sP3SgFsR",
        "colab_type": "code",
        "colab": {}
      },
      "source": [
        "#@title PLEASE CHANGE THE RUN_NUMBER IN THE CELL BELOW\n"
      ],
      "execution_count": 0,
      "outputs": []
    },
    {
      "cell_type": "code",
      "metadata": {
        "id": "zOHQ7a5_aqUD",
        "colab_type": "code",
        "outputId": "20ff49fd-e79a-4bb2-9bbd-b4bc152cc045",
        "colab": {
          "base_uri": "https://localhost:8080/",
          "height": 34
        }
      },
      "source": [
        "#                                 IMPORTANT\n",
        "#\n",
        "#\n",
        "#\n",
        "#           PLEASE INCREMENT THE RUN_NUMBER BEFORE RUNNING THIS CELL\n",
        "#\n",
        "#\n",
        "#\n",
        "#.                                IMPORTANT\n",
        "\n",
        "\n",
        "import pandas as pd\n",
        "import numpy as np\n",
        "import cv2\n",
        "import os\n",
        "import h5py\n",
        "from tqdm import tqdm\n",
        "from keras.preprocessing import image\n",
        "from keras.applications.inception_v3 import InceptionV3, preprocess_input\n",
        "from keras.models import Model, load_model, Sequential\n",
        "from keras.layers import Input, LSTM, Dense, Dropout\n",
        "from keras.utils import to_categorical\n",
        "from keras.applications.imagenet_utils import preprocess_input\n",
        "from keras.optimizers import Adam\n",
        "from keras.callbacks import ModelCheckpoint, TensorBoard,EarlyStopping\n",
        "from keras.utils.io_utils import HDF5Matrix\n",
        "\n",
        "SEQ_LEN = 30\n",
        "MAX_SEQ_LEN = 3000\n",
        "BATCH_SIZE = 16\n",
        "EPOCHS = 100\n",
        "RUN_NUMBER = \"G\"            #PLEASE INCREMENT THE RUN_NUMBER BEFORE RUNNING THIS CELL"
      ],
      "execution_count": 0,
      "outputs": [
        {
          "output_type": "stream",
          "text": [
            "Using TensorFlow backend.\n"
          ],
          "name": "stderr"
        }
      ]
    },
    {
      "cell_type": "code",
      "metadata": {
        "id": "doq8RcCGCFNx",
        "colab_type": "code",
        "colab": {}
      },
      "source": [
        ""
      ],
      "execution_count": 0,
      "outputs": []
    },
    {
      "cell_type": "code",
      "metadata": {
        "id": "M9-tCCZscPW6",
        "colab_type": "code",
        "colab": {}
      },
      "source": [
        "os.mkdir(\"/content/drive/My Drive/Project/\"+RUN_NUMBER)\n",
        "os.chdir(\"/content/drive/My Drive/Project/\"+RUN_NUMBER)\n",
        "\n",
        "def get_data(path, if_pd=False):\n",
        "    \"\"\"Load our data from file.\"\"\"\n",
        "    names = ['partition', 'class', 'video_name', 'frames']\n",
        "    df = pd.DataFrame(data = videos_info, columns= names)\n",
        "    return df\n",
        "\n",
        "def get_class_dict(df):\n",
        "    class_name =  list(df['class'].unique())\n",
        "    index = np.arange(0, len(class_name))\n",
        "    label_index = dict(zip(class_name, index))\n",
        "    index_label = dict(zip(index, class_name))\n",
        "    return (label_index, index_label)\n",
        "    \n",
        "def clean_data(df):\n",
        "    mask = np.logical_and(df['frames'] >= SEQ_LEN, df['frames'] <= MAX_SEQ_LEN)\n",
        "    df = df[mask]\n",
        "    return df\n",
        "    \n",
        "def split_train_test(df):\n",
        "    partition =  (df.groupby(['partition']))\n",
        "    un = df['partition'].unique()\n",
        "    test = partition.get_group(un[0])\n",
        "    train = partition.get_group(un[1])\n",
        "    return (train, test)\n",
        "\n",
        "def preprocess_image(img):\n",
        "    img = cv2.resize(img, (299,299))\n",
        "    return preprocess_input(img)\n",
        "    \n",
        "    \n",
        "def encode_video(row, model, label_index):\n",
        "\n",
        "    import matplotlib.pyplot as plt\n",
        "    import matplotlib.image as mpimg\n",
        "\n",
        "    # success,image = vidcap.read()\n",
        "    # imgplot = plt.imshow(image)\n",
        "    # plt.show()\n",
        "    cap = cv2.VideoCapture(\"/content/drive/My Drive/Project/AnomalyVideos/\" + str(row[\"video_name\"].iloc[0]))\n",
        "    images = []  \n",
        "    for i in range(SEQ_LEN):\n",
        "        ret, frame = cap.read()\n",
        "        # im = plt.imshow(frame)\n",
        "        # plt.show()\n",
        "        frame = preprocess_image(frame)\n",
        "        images.append(frame)\n",
        "    \n",
        "    \n",
        "    features = model.predict(np.array(images))\n",
        "    index = label_index[row[\"class\"].iloc[0]]\n",
        "    print(index)\n",
        "    #y_onehot = to_categorical(index, len(label_index.keys()))\n",
        "    \n",
        "    return features, index\n",
        "\n",
        "from keras.utils import np_utils\n",
        "def encode_dataset(data, model, label_index, phase):\n",
        "    input_f = []\n",
        "    output_y = []\n",
        "    required_classes = [\"Criminal\" , \"Normal\"]\n",
        "   \n",
        "    \n",
        "    for i in tqdm(range(data.shape[0])):\n",
        "    # Check whether the given row , is of a class that is required\n",
        "        if str(data.iloc[[i]][\"class\"].iloc[0]) in required_classes:\n",
        " \n",
        "            # print(\"===\")\n",
        "            # print(data.iloc[[i]])\n",
        "            # print(\"===\")\n",
        "            # print(model)\n",
        "            # print(\"===\")\n",
        "            # print(label_index)\n",
        "            # print(\"===\")\n",
        "            features,y =  encode_video(data.iloc[[i]], model, label_index)\n",
        "            input_f.append(features)\n",
        "            output_y.append(y)\n",
        "        \n",
        "    \n",
        "    le_labels = np_utils.to_categorical(output_y)\n",
        "    f = h5py.File(phase+'_8'+'.h5', 'w')\n",
        "    f.create_dataset(phase, data=np.array(input_f))\n",
        "    f.create_dataset(phase+\"_labels\", data=np.array(le_labels))\n",
        "    \n",
        "    del input_f[:]\n",
        "    del output_y[:]\n",
        "\n"
      ],
      "execution_count": 0,
      "outputs": []
    },
    {
      "cell_type": "code",
      "metadata": {
        "id": "8rQW1WYscPY7",
        "colab_type": "code",
        "colab": {}
      },
      "source": [
        "def main():\n",
        "    # Get model with pretrained weights.\n",
        "    base_model = InceptionV3(\n",
        "    weights='imagenet',\n",
        "    include_top=True)\n",
        "    \n",
        "    \n",
        "    # We'll extract features at the final pool layer.\n",
        "    model = Model(\n",
        "        inputs=base_model.input,\n",
        "        outputs=base_model.get_layer('avg_pool').output)\n",
        "    \n",
        "    # Getting the data\n",
        "    df = get_data('') #INSERT PATH IF READING FROM FILE REQUIRED\n",
        "\n",
        "    # print(\"_____DF_____\")\n",
        "    # print(df)\n",
        "    \n",
        "    # Clean the data\n",
        "    df_clean = clean_data(df)\n",
        "    # print(\"_____DF-Clean_____\")\n",
        "    # print(df_clean)\n",
        "    \n",
        "    # Creating index-label maps and inverse_maps\n",
        "    label_index, index_label = get_class_dict(df_clean)\n",
        "    # print(\"\\n\\nlabel_index, index_label _____ \")\n",
        "    # print(label_index, index_label)\n",
        "    \n",
        "    # Split the dataset into train and test\n",
        "    train, test = split_train_test(df_clean)\n",
        "    # print(\"\\n\\n_____TRAIN_____\")\n",
        "    # print(train)\n",
        "    # print('\\n\\n_______TEST______')\n",
        "    # print(test)\n",
        "    \n",
        "    # Encoding the dataset\n",
        "    encode_dataset(train, model, label_index, \"train\")\n",
        "    encode_dataset(test,model,label_index,\"test\")\n",
        "    \n",
        "   "
      ],
      "execution_count": 0,
      "outputs": []
    },
    {
      "cell_type": "code",
      "metadata": {
        "id": "6CSH8rX1IKYD",
        "colab_type": "code",
        "outputId": "541db8ba-1599-4f76-b000-90cd5d5b7548",
        "colab": {
          "base_uri": "https://localhost:8080/",
          "height": 34
        }
      },
      "source": [
        "# !ls"
      ],
      "execution_count": 0,
      "outputs": [
        {
          "output_type": "stream",
          "text": [
            "Human-Action-Classification-  sample_data\n"
          ],
          "name": "stdout"
        }
      ]
    },
    {
      "cell_type": "code",
      "metadata": {
        "id": "QusjBRpYdR5r",
        "colab_type": "code",
        "outputId": "b4b9597c-5a55-4248-d3be-f70b59cf917f",
        "colab": {
          "base_uri": "https://localhost:8080/",
          "height": 49
        }
      },
      "source": [
        "# mask = np.logical_and(videos_df[3] >= SEQ_LEN, videos_df[3] <= MAX_SEQ_LEN)\n",
        "# videos_df[mask]"
      ],
      "execution_count": 0,
      "outputs": [
        {
          "output_type": "execute_result",
          "data": {
            "text/html": [
              "<div>\n",
              "<style scoped>\n",
              "    .dataframe tbody tr th:only-of-type {\n",
              "        vertical-align: middle;\n",
              "    }\n",
              "\n",
              "    .dataframe tbody tr th {\n",
              "        vertical-align: top;\n",
              "    }\n",
              "\n",
              "    .dataframe thead th {\n",
              "        text-align: right;\n",
              "    }\n",
              "</style>\n",
              "<table border=\"1\" class=\"dataframe\">\n",
              "  <thead>\n",
              "    <tr style=\"text-align: right;\">\n",
              "      <th></th>\n",
              "      <th>0</th>\n",
              "      <th>1</th>\n",
              "      <th>2</th>\n",
              "      <th>3</th>\n",
              "    </tr>\n",
              "  </thead>\n",
              "  <tbody>\n",
              "  </tbody>\n",
              "</table>\n",
              "</div>"
            ],
            "text/plain": [
              "Empty DataFrame\n",
              "Columns: [0, 1, 2, 3]\n",
              "Index: []"
            ]
          },
          "metadata": {
            "tags": []
          },
          "execution_count": 28
        }
      ]
    },
    {
      "cell_type": "code",
      "metadata": {
        "id": "TH7GXfBQoAEN",
        "colab_type": "code",
        "colab": {}
      },
      "source": [
        "#p = videos_df.groupby(['partition'])\n",
        "#p.get_group(\"test\")"
      ],
      "execution_count": 0,
      "outputs": []
    },
    {
      "cell_type": "code",
      "metadata": {
        "id": "47a0U3JMpIBC",
        "colab_type": "code",
        "colab": {}
      },
      "source": [
        "#videos_df"
      ],
      "execution_count": 0,
      "outputs": []
    },
    {
      "cell_type": "code",
      "metadata": {
        "id": "Bk3pEtMvqED_",
        "colab_type": "code",
        "colab": {}
      },
      "source": [
        "# print(clean_data(videos_df))"
      ],
      "execution_count": 0,
      "outputs": []
    },
    {
      "cell_type": "code",
      "metadata": {
        "id": "NnkJp3ljcPam",
        "colab_type": "code",
        "outputId": "96d004e5-0425-4314-e53b-8ae60d418ad3",
        "colab": {
          "base_uri": "https://localhost:8080/",
          "height": 1000
        }
      },
      "source": [
        "main()"
      ],
      "execution_count": 0,
      "outputs": [
        {
          "output_type": "stream",
          "text": [
            "Downloading data from https://github.com/fchollet/deep-learning-models/releases/download/v0.5/inception_v3_weights_tf_dim_ordering_tf_kernels.h5\n",
            "96116736/96112376 [==============================] - 1s 0us/step\n"
          ],
          "name": "stdout"
        },
        {
          "output_type": "stream",
          "text": [
            "  1%|          | 1/171 [00:09<27:15,  9.62s/it]"
          ],
          "name": "stderr"
        },
        {
          "output_type": "stream",
          "text": [
            "0\n"
          ],
          "name": "stdout"
        },
        {
          "output_type": "stream",
          "text": [
            "  2%|▏         | 3/171 [00:10<13:29,  4.82s/it]"
          ],
          "name": "stderr"
        },
        {
          "output_type": "stream",
          "text": [
            "0\n",
            "0\n"
          ],
          "name": "stdout"
        },
        {
          "output_type": "stream",
          "text": [
            "  3%|▎         | 5/171 [00:10<06:54,  2.50s/it]"
          ],
          "name": "stderr"
        },
        {
          "output_type": "stream",
          "text": [
            "0\n",
            "0\n"
          ],
          "name": "stdout"
        },
        {
          "output_type": "stream",
          "text": [
            "  4%|▍         | 7/171 [00:10<03:36,  1.32s/it]"
          ],
          "name": "stderr"
        },
        {
          "output_type": "stream",
          "text": [
            "0\n",
            "0\n"
          ],
          "name": "stdout"
        },
        {
          "output_type": "stream",
          "text": [
            "  5%|▌         | 9/171 [00:11<02:00,  1.34it/s]"
          ],
          "name": "stderr"
        },
        {
          "output_type": "stream",
          "text": [
            "0\n",
            "0\n"
          ],
          "name": "stdout"
        },
        {
          "output_type": "stream",
          "text": [
            "  6%|▋         | 11/171 [00:11<01:14,  2.15it/s]"
          ],
          "name": "stderr"
        },
        {
          "output_type": "stream",
          "text": [
            "0\n",
            "0\n"
          ],
          "name": "stdout"
        },
        {
          "output_type": "stream",
          "text": [
            "  8%|▊         | 13/171 [00:12<00:51,  3.07it/s]"
          ],
          "name": "stderr"
        },
        {
          "output_type": "stream",
          "text": [
            "0\n",
            "0\n"
          ],
          "name": "stdout"
        },
        {
          "output_type": "stream",
          "text": [
            "  9%|▉         | 15/171 [00:12<00:40,  3.85it/s]"
          ],
          "name": "stderr"
        },
        {
          "output_type": "stream",
          "text": [
            "0\n",
            "0\n"
          ],
          "name": "stdout"
        },
        {
          "output_type": "stream",
          "text": [
            " 10%|▉         | 17/171 [00:12<00:34,  4.45it/s]"
          ],
          "name": "stderr"
        },
        {
          "output_type": "stream",
          "text": [
            "0\n",
            "0\n"
          ],
          "name": "stdout"
        },
        {
          "output_type": "stream",
          "text": [
            " 11%|█         | 19/171 [00:13<00:30,  4.90it/s]"
          ],
          "name": "stderr"
        },
        {
          "output_type": "stream",
          "text": [
            "0\n",
            "0\n"
          ],
          "name": "stdout"
        },
        {
          "output_type": "stream",
          "text": [
            " 12%|█▏        | 21/171 [00:13<00:29,  5.14it/s]"
          ],
          "name": "stderr"
        },
        {
          "output_type": "stream",
          "text": [
            "0\n",
            "0\n"
          ],
          "name": "stdout"
        },
        {
          "output_type": "stream",
          "text": [
            " 13%|█▎        | 23/171 [00:14<00:28,  5.27it/s]"
          ],
          "name": "stderr"
        },
        {
          "output_type": "stream",
          "text": [
            "0\n",
            "0\n"
          ],
          "name": "stdout"
        },
        {
          "output_type": "stream",
          "text": [
            " 15%|█▍        | 25/171 [00:14<00:27,  5.30it/s]"
          ],
          "name": "stderr"
        },
        {
          "output_type": "stream",
          "text": [
            "0\n",
            "0\n"
          ],
          "name": "stdout"
        },
        {
          "output_type": "stream",
          "text": [
            " 16%|█▌        | 27/171 [00:14<00:27,  5.30it/s]"
          ],
          "name": "stderr"
        },
        {
          "output_type": "stream",
          "text": [
            "0\n",
            "0\n"
          ],
          "name": "stdout"
        },
        {
          "output_type": "stream",
          "text": [
            " 17%|█▋        | 29/171 [00:15<00:26,  5.31it/s]"
          ],
          "name": "stderr"
        },
        {
          "output_type": "stream",
          "text": [
            "0\n",
            "0\n"
          ],
          "name": "stdout"
        },
        {
          "output_type": "stream",
          "text": [
            " 18%|█▊        | 31/171 [00:15<00:26,  5.35it/s]"
          ],
          "name": "stderr"
        },
        {
          "output_type": "stream",
          "text": [
            "0\n",
            "0\n"
          ],
          "name": "stdout"
        },
        {
          "output_type": "stream",
          "text": [
            " 19%|█▉        | 33/171 [00:15<00:25,  5.44it/s]"
          ],
          "name": "stderr"
        },
        {
          "output_type": "stream",
          "text": [
            "0\n",
            "0\n"
          ],
          "name": "stdout"
        },
        {
          "output_type": "stream",
          "text": [
            " 20%|██        | 35/171 [00:16<00:25,  5.43it/s]"
          ],
          "name": "stderr"
        },
        {
          "output_type": "stream",
          "text": [
            "0\n",
            "0\n"
          ],
          "name": "stdout"
        },
        {
          "output_type": "stream",
          "text": [
            " 22%|██▏       | 37/171 [00:16<00:25,  5.34it/s]"
          ],
          "name": "stderr"
        },
        {
          "output_type": "stream",
          "text": [
            "0\n",
            "0\n"
          ],
          "name": "stdout"
        },
        {
          "output_type": "stream",
          "text": [
            " 23%|██▎       | 39/171 [00:17<00:24,  5.35it/s]"
          ],
          "name": "stderr"
        },
        {
          "output_type": "stream",
          "text": [
            "0\n",
            "0\n"
          ],
          "name": "stdout"
        },
        {
          "output_type": "stream",
          "text": [
            " 24%|██▍       | 41/171 [00:17<00:24,  5.40it/s]"
          ],
          "name": "stderr"
        },
        {
          "output_type": "stream",
          "text": [
            "0\n",
            "0\n"
          ],
          "name": "stdout"
        },
        {
          "output_type": "stream",
          "text": [
            " 25%|██▌       | 43/171 [00:17<00:23,  5.39it/s]"
          ],
          "name": "stderr"
        },
        {
          "output_type": "stream",
          "text": [
            "0\n",
            "0\n"
          ],
          "name": "stdout"
        },
        {
          "output_type": "stream",
          "text": [
            " 26%|██▋       | 45/171 [00:18<00:23,  5.43it/s]"
          ],
          "name": "stderr"
        },
        {
          "output_type": "stream",
          "text": [
            "0\n",
            "0\n"
          ],
          "name": "stdout"
        },
        {
          "output_type": "stream",
          "text": [
            " 27%|██▋       | 47/171 [00:18<00:22,  5.43it/s]"
          ],
          "name": "stderr"
        },
        {
          "output_type": "stream",
          "text": [
            "0\n",
            "0\n"
          ],
          "name": "stdout"
        },
        {
          "output_type": "stream",
          "text": [
            " 29%|██▊       | 49/171 [00:18<00:22,  5.38it/s]"
          ],
          "name": "stderr"
        },
        {
          "output_type": "stream",
          "text": [
            "1\n",
            "1\n"
          ],
          "name": "stdout"
        },
        {
          "output_type": "stream",
          "text": [
            " 30%|██▉       | 51/171 [00:19<00:22,  5.37it/s]"
          ],
          "name": "stderr"
        },
        {
          "output_type": "stream",
          "text": [
            "1\n",
            "1\n"
          ],
          "name": "stdout"
        },
        {
          "output_type": "stream",
          "text": [
            " 31%|███       | 53/171 [00:19<00:22,  5.31it/s]"
          ],
          "name": "stderr"
        },
        {
          "output_type": "stream",
          "text": [
            "1\n",
            "1\n"
          ],
          "name": "stdout"
        },
        {
          "output_type": "stream",
          "text": [
            " 32%|███▏      | 55/171 [00:20<00:22,  5.19it/s]"
          ],
          "name": "stderr"
        },
        {
          "output_type": "stream",
          "text": [
            "1\n",
            "1\n"
          ],
          "name": "stdout"
        },
        {
          "output_type": "stream",
          "text": [
            " 33%|███▎      | 57/171 [00:20<00:21,  5.27it/s]"
          ],
          "name": "stderr"
        },
        {
          "output_type": "stream",
          "text": [
            "1\n",
            "1\n"
          ],
          "name": "stdout"
        },
        {
          "output_type": "stream",
          "text": [
            " 35%|███▍      | 59/171 [00:20<00:21,  5.29it/s]"
          ],
          "name": "stderr"
        },
        {
          "output_type": "stream",
          "text": [
            "1\n",
            "1\n"
          ],
          "name": "stdout"
        },
        {
          "output_type": "stream",
          "text": [
            " 36%|███▌      | 61/171 [00:21<00:20,  5.30it/s]"
          ],
          "name": "stderr"
        },
        {
          "output_type": "stream",
          "text": [
            "1\n",
            "1\n"
          ],
          "name": "stdout"
        },
        {
          "output_type": "stream",
          "text": [
            " 37%|███▋      | 63/171 [00:21<00:20,  5.33it/s]"
          ],
          "name": "stderr"
        },
        {
          "output_type": "stream",
          "text": [
            "1\n",
            "1\n"
          ],
          "name": "stdout"
        },
        {
          "output_type": "stream",
          "text": [
            " 38%|███▊      | 65/171 [00:21<00:19,  5.33it/s]"
          ],
          "name": "stderr"
        },
        {
          "output_type": "stream",
          "text": [
            "1\n",
            "1\n"
          ],
          "name": "stdout"
        },
        {
          "output_type": "stream",
          "text": [
            " 39%|███▉      | 67/171 [00:22<00:19,  5.34it/s]"
          ],
          "name": "stderr"
        },
        {
          "output_type": "stream",
          "text": [
            "1\n",
            "1\n"
          ],
          "name": "stdout"
        },
        {
          "output_type": "stream",
          "text": [
            " 40%|████      | 69/171 [00:22<00:19,  5.36it/s]"
          ],
          "name": "stderr"
        },
        {
          "output_type": "stream",
          "text": [
            "1\n",
            "1\n"
          ],
          "name": "stdout"
        },
        {
          "output_type": "stream",
          "text": [
            " 42%|████▏     | 71/171 [00:23<00:18,  5.30it/s]"
          ],
          "name": "stderr"
        },
        {
          "output_type": "stream",
          "text": [
            "1\n",
            "1\n"
          ],
          "name": "stdout"
        },
        {
          "output_type": "stream",
          "text": [
            " 43%|████▎     | 73/171 [00:23<00:18,  5.34it/s]"
          ],
          "name": "stderr"
        },
        {
          "output_type": "stream",
          "text": [
            "1\n",
            "1\n"
          ],
          "name": "stdout"
        },
        {
          "output_type": "stream",
          "text": [
            " 44%|████▍     | 75/171 [00:23<00:18,  5.32it/s]"
          ],
          "name": "stderr"
        },
        {
          "output_type": "stream",
          "text": [
            "1\n",
            "1\n"
          ],
          "name": "stdout"
        },
        {
          "output_type": "stream",
          "text": [
            " 45%|████▌     | 77/171 [00:24<00:17,  5.36it/s]"
          ],
          "name": "stderr"
        },
        {
          "output_type": "stream",
          "text": [
            "1\n",
            "1\n"
          ],
          "name": "stdout"
        },
        {
          "output_type": "stream",
          "text": [
            " 46%|████▌     | 79/171 [00:24<00:17,  5.38it/s]"
          ],
          "name": "stderr"
        },
        {
          "output_type": "stream",
          "text": [
            "1\n",
            "1\n"
          ],
          "name": "stdout"
        },
        {
          "output_type": "stream",
          "text": [
            " 47%|████▋     | 81/171 [00:24<00:16,  5.48it/s]"
          ],
          "name": "stderr"
        },
        {
          "output_type": "stream",
          "text": [
            "1\n",
            "1\n"
          ],
          "name": "stdout"
        },
        {
          "output_type": "stream",
          "text": [
            " 49%|████▊     | 83/171 [00:25<00:16,  5.40it/s]"
          ],
          "name": "stderr"
        },
        {
          "output_type": "stream",
          "text": [
            "1\n",
            "1\n"
          ],
          "name": "stdout"
        },
        {
          "output_type": "stream",
          "text": [
            " 50%|████▉     | 85/171 [00:25<00:15,  5.40it/s]"
          ],
          "name": "stderr"
        },
        {
          "output_type": "stream",
          "text": [
            "1\n",
            "1\n"
          ],
          "name": "stdout"
        },
        {
          "output_type": "stream",
          "text": [
            " 51%|█████     | 87/171 [00:26<00:15,  5.35it/s]"
          ],
          "name": "stderr"
        },
        {
          "output_type": "stream",
          "text": [
            "1\n",
            "1\n"
          ],
          "name": "stdout"
        },
        {
          "output_type": "stream",
          "text": [
            " 52%|█████▏    | 89/171 [00:26<00:15,  5.36it/s]"
          ],
          "name": "stderr"
        },
        {
          "output_type": "stream",
          "text": [
            "1\n",
            "1\n"
          ],
          "name": "stdout"
        },
        {
          "output_type": "stream",
          "text": [
            " 53%|█████▎    | 91/171 [00:26<00:14,  5.33it/s]"
          ],
          "name": "stderr"
        },
        {
          "output_type": "stream",
          "text": [
            "1\n",
            "1\n"
          ],
          "name": "stdout"
        },
        {
          "output_type": "stream",
          "text": [
            " 54%|█████▍    | 93/171 [00:27<00:14,  5.36it/s]"
          ],
          "name": "stderr"
        },
        {
          "output_type": "stream",
          "text": [
            "1\n",
            "1\n"
          ],
          "name": "stdout"
        },
        {
          "output_type": "stream",
          "text": [
            " 56%|█████▌    | 95/171 [00:27<00:13,  5.46it/s]"
          ],
          "name": "stderr"
        },
        {
          "output_type": "stream",
          "text": [
            "1\n",
            "1\n"
          ],
          "name": "stdout"
        },
        {
          "output_type": "stream",
          "text": [
            " 57%|█████▋    | 97/171 [00:27<00:13,  5.47it/s]"
          ],
          "name": "stderr"
        },
        {
          "output_type": "stream",
          "text": [
            "1\n",
            "1\n"
          ],
          "name": "stdout"
        },
        {
          "output_type": "stream",
          "text": [
            " 58%|█████▊    | 99/171 [00:28<00:13,  5.33it/s]"
          ],
          "name": "stderr"
        },
        {
          "output_type": "stream",
          "text": [
            "1\n",
            "1\n"
          ],
          "name": "stdout"
        },
        {
          "output_type": "stream",
          "text": [
            " 59%|█████▉    | 101/171 [00:28<00:13,  5.32it/s]"
          ],
          "name": "stderr"
        },
        {
          "output_type": "stream",
          "text": [
            "0\n",
            "0\n"
          ],
          "name": "stdout"
        },
        {
          "output_type": "stream",
          "text": [
            " 60%|██████    | 103/171 [00:28<00:12,  5.34it/s]"
          ],
          "name": "stderr"
        },
        {
          "output_type": "stream",
          "text": [
            "0\n",
            "0\n"
          ],
          "name": "stdout"
        },
        {
          "output_type": "stream",
          "text": [
            " 61%|██████▏   | 105/171 [00:29<00:12,  5.35it/s]"
          ],
          "name": "stderr"
        },
        {
          "output_type": "stream",
          "text": [
            "0\n",
            "0\n"
          ],
          "name": "stdout"
        },
        {
          "output_type": "stream",
          "text": [
            " 63%|██████▎   | 107/171 [00:29<00:11,  5.41it/s]"
          ],
          "name": "stderr"
        },
        {
          "output_type": "stream",
          "text": [
            "0\n",
            "0\n"
          ],
          "name": "stdout"
        },
        {
          "output_type": "stream",
          "text": [
            " 64%|██████▎   | 109/171 [00:30<00:11,  5.41it/s]"
          ],
          "name": "stderr"
        },
        {
          "output_type": "stream",
          "text": [
            "0\n",
            "0\n"
          ],
          "name": "stdout"
        },
        {
          "output_type": "stream",
          "text": [
            " 65%|██████▍   | 111/171 [00:30<00:11,  5.40it/s]"
          ],
          "name": "stderr"
        },
        {
          "output_type": "stream",
          "text": [
            "0\n",
            "0\n"
          ],
          "name": "stdout"
        },
        {
          "output_type": "stream",
          "text": [
            " 66%|██████▌   | 113/171 [00:30<00:10,  5.43it/s]"
          ],
          "name": "stderr"
        },
        {
          "output_type": "stream",
          "text": [
            "0\n",
            "0\n"
          ],
          "name": "stdout"
        },
        {
          "output_type": "stream",
          "text": [
            " 67%|██████▋   | 115/171 [00:31<00:10,  5.40it/s]"
          ],
          "name": "stderr"
        },
        {
          "output_type": "stream",
          "text": [
            "0\n",
            "0\n"
          ],
          "name": "stdout"
        },
        {
          "output_type": "stream",
          "text": [
            " 68%|██████▊   | 117/171 [00:31<00:09,  5.42it/s]"
          ],
          "name": "stderr"
        },
        {
          "output_type": "stream",
          "text": [
            "0\n",
            "0\n"
          ],
          "name": "stdout"
        },
        {
          "output_type": "stream",
          "text": [
            " 70%|██████▉   | 119/171 [00:31<00:09,  5.35it/s]"
          ],
          "name": "stderr"
        },
        {
          "output_type": "stream",
          "text": [
            "0\n",
            "0\n"
          ],
          "name": "stdout"
        },
        {
          "output_type": "stream",
          "text": [
            " 71%|███████   | 121/171 [00:32<00:09,  5.41it/s]"
          ],
          "name": "stderr"
        },
        {
          "output_type": "stream",
          "text": [
            "0\n",
            "0\n"
          ],
          "name": "stdout"
        },
        {
          "output_type": "stream",
          "text": [
            " 72%|███████▏  | 123/171 [00:32<00:08,  5.35it/s]"
          ],
          "name": "stderr"
        },
        {
          "output_type": "stream",
          "text": [
            "0\n",
            "0\n"
          ],
          "name": "stdout"
        },
        {
          "output_type": "stream",
          "text": [
            " 73%|███████▎  | 125/171 [00:33<00:08,  5.31it/s]"
          ],
          "name": "stderr"
        },
        {
          "output_type": "stream",
          "text": [
            "0\n",
            "0\n"
          ],
          "name": "stdout"
        },
        {
          "output_type": "stream",
          "text": [
            " 74%|███████▍  | 127/171 [00:33<00:08,  5.32it/s]"
          ],
          "name": "stderr"
        },
        {
          "output_type": "stream",
          "text": [
            "0\n",
            "0\n"
          ],
          "name": "stdout"
        },
        {
          "output_type": "stream",
          "text": [
            " 75%|███████▌  | 129/171 [00:33<00:07,  5.34it/s]"
          ],
          "name": "stderr"
        },
        {
          "output_type": "stream",
          "text": [
            "0\n",
            "0\n"
          ],
          "name": "stdout"
        },
        {
          "output_type": "stream",
          "text": [
            " 77%|███████▋  | 131/171 [00:34<00:07,  5.41it/s]"
          ],
          "name": "stderr"
        },
        {
          "output_type": "stream",
          "text": [
            "0\n",
            "1\n"
          ],
          "name": "stdout"
        },
        {
          "output_type": "stream",
          "text": [
            " 78%|███████▊  | 133/171 [00:34<00:07,  5.35it/s]"
          ],
          "name": "stderr"
        },
        {
          "output_type": "stream",
          "text": [
            "1\n",
            "1\n"
          ],
          "name": "stdout"
        },
        {
          "output_type": "stream",
          "text": [
            " 79%|███████▉  | 135/171 [00:34<00:06,  5.33it/s]"
          ],
          "name": "stderr"
        },
        {
          "output_type": "stream",
          "text": [
            "1\n",
            "1\n"
          ],
          "name": "stdout"
        },
        {
          "output_type": "stream",
          "text": [
            " 80%|████████  | 137/171 [00:35<00:06,  5.32it/s]"
          ],
          "name": "stderr"
        },
        {
          "output_type": "stream",
          "text": [
            "1\n",
            "1\n"
          ],
          "name": "stdout"
        },
        {
          "output_type": "stream",
          "text": [
            " 81%|████████▏ | 139/171 [00:35<00:06,  5.33it/s]"
          ],
          "name": "stderr"
        },
        {
          "output_type": "stream",
          "text": [
            "1\n",
            "1\n"
          ],
          "name": "stdout"
        },
        {
          "output_type": "stream",
          "text": [
            " 82%|████████▏ | 141/171 [00:36<00:05,  5.37it/s]"
          ],
          "name": "stderr"
        },
        {
          "output_type": "stream",
          "text": [
            "1\n",
            "1\n"
          ],
          "name": "stdout"
        },
        {
          "output_type": "stream",
          "text": [
            " 84%|████████▎ | 143/171 [00:36<00:05,  5.40it/s]"
          ],
          "name": "stderr"
        },
        {
          "output_type": "stream",
          "text": [
            "1\n",
            "1\n"
          ],
          "name": "stdout"
        },
        {
          "output_type": "stream",
          "text": [
            " 85%|████████▍ | 145/171 [00:36<00:04,  5.42it/s]"
          ],
          "name": "stderr"
        },
        {
          "output_type": "stream",
          "text": [
            "1\n",
            "1\n"
          ],
          "name": "stdout"
        },
        {
          "output_type": "stream",
          "text": [
            " 86%|████████▌ | 147/171 [00:37<00:04,  5.32it/s]"
          ],
          "name": "stderr"
        },
        {
          "output_type": "stream",
          "text": [
            "1\n",
            "1\n"
          ],
          "name": "stdout"
        },
        {
          "output_type": "stream",
          "text": [
            " 87%|████████▋ | 149/171 [00:37<00:04,  5.34it/s]"
          ],
          "name": "stderr"
        },
        {
          "output_type": "stream",
          "text": [
            "1\n",
            "1\n"
          ],
          "name": "stdout"
        },
        {
          "output_type": "stream",
          "text": [
            " 88%|████████▊ | 151/171 [00:37<00:03,  5.39it/s]"
          ],
          "name": "stderr"
        },
        {
          "output_type": "stream",
          "text": [
            "1\n",
            "1\n"
          ],
          "name": "stdout"
        },
        {
          "output_type": "stream",
          "text": [
            " 89%|████████▉ | 153/171 [00:38<00:03,  5.37it/s]"
          ],
          "name": "stderr"
        },
        {
          "output_type": "stream",
          "text": [
            "1\n",
            "1\n"
          ],
          "name": "stdout"
        },
        {
          "output_type": "stream",
          "text": [
            " 91%|█████████ | 155/171 [00:38<00:03,  5.33it/s]"
          ],
          "name": "stderr"
        },
        {
          "output_type": "stream",
          "text": [
            "1\n",
            "1\n"
          ],
          "name": "stdout"
        },
        {
          "output_type": "stream",
          "text": [
            " 92%|█████████▏| 157/171 [00:39<00:02,  5.34it/s]"
          ],
          "name": "stderr"
        },
        {
          "output_type": "stream",
          "text": [
            "1\n",
            "1\n"
          ],
          "name": "stdout"
        },
        {
          "output_type": "stream",
          "text": [
            " 93%|█████████▎| 159/171 [00:39<00:02,  5.34it/s]"
          ],
          "name": "stderr"
        },
        {
          "output_type": "stream",
          "text": [
            "1\n",
            "1\n"
          ],
          "name": "stdout"
        },
        {
          "output_type": "stream",
          "text": [
            " 94%|█████████▍| 161/171 [00:39<00:01,  5.36it/s]"
          ],
          "name": "stderr"
        },
        {
          "output_type": "stream",
          "text": [
            "1\n",
            "1\n"
          ],
          "name": "stdout"
        },
        {
          "output_type": "stream",
          "text": [
            " 95%|█████████▌| 163/171 [00:40<00:01,  5.37it/s]"
          ],
          "name": "stderr"
        },
        {
          "output_type": "stream",
          "text": [
            "1\n",
            "1\n"
          ],
          "name": "stdout"
        },
        {
          "output_type": "stream",
          "text": [
            " 96%|█████████▋| 165/171 [00:40<00:01,  5.39it/s]"
          ],
          "name": "stderr"
        },
        {
          "output_type": "stream",
          "text": [
            "1\n",
            "1\n"
          ],
          "name": "stdout"
        },
        {
          "output_type": "stream",
          "text": [
            " 98%|█████████▊| 167/171 [00:40<00:00,  5.40it/s]"
          ],
          "name": "stderr"
        },
        {
          "output_type": "stream",
          "text": [
            "1\n",
            "1\n"
          ],
          "name": "stdout"
        },
        {
          "output_type": "stream",
          "text": [
            " 99%|█████████▉| 169/171 [00:41<00:00,  5.35it/s]"
          ],
          "name": "stderr"
        },
        {
          "output_type": "stream",
          "text": [
            "1\n",
            "1\n"
          ],
          "name": "stdout"
        },
        {
          "output_type": "stream",
          "text": [
            "100%|██████████| 171/171 [00:41<00:00,  4.10it/s]"
          ],
          "name": "stderr"
        },
        {
          "output_type": "stream",
          "text": [
            "1\n",
            "1\n"
          ],
          "name": "stdout"
        },
        {
          "output_type": "stream",
          "text": [
            "\n",
            "  5%|▍         | 1/21 [00:00<00:03,  5.03it/s]"
          ],
          "name": "stderr"
        },
        {
          "output_type": "stream",
          "text": [
            "0\n"
          ],
          "name": "stdout"
        },
        {
          "output_type": "stream",
          "text": [
            "\r 10%|▉         | 2/21 [00:00<00:03,  4.95it/s]"
          ],
          "name": "stderr"
        },
        {
          "output_type": "stream",
          "text": [
            "0\n"
          ],
          "name": "stdout"
        },
        {
          "output_type": "stream",
          "text": [
            "\r 14%|█▍        | 3/21 [00:00<00:03,  4.67it/s]"
          ],
          "name": "stderr"
        },
        {
          "output_type": "stream",
          "text": [
            "0\n"
          ],
          "name": "stdout"
        },
        {
          "output_type": "stream",
          "text": [
            " 24%|██▍       | 5/21 [00:01<00:03,  4.72it/s]"
          ],
          "name": "stderr"
        },
        {
          "output_type": "stream",
          "text": [
            "0\n",
            "0\n"
          ],
          "name": "stdout"
        },
        {
          "output_type": "stream",
          "text": [
            " 33%|███▎      | 7/21 [00:01<00:02,  5.06it/s]"
          ],
          "name": "stderr"
        },
        {
          "output_type": "stream",
          "text": [
            "1\n",
            "1\n"
          ],
          "name": "stdout"
        },
        {
          "output_type": "stream",
          "text": [
            " 43%|████▎     | 9/21 [00:01<00:02,  5.24it/s]"
          ],
          "name": "stderr"
        },
        {
          "output_type": "stream",
          "text": [
            "1\n",
            "1\n"
          ],
          "name": "stdout"
        },
        {
          "output_type": "stream",
          "text": [
            " 52%|█████▏    | 11/21 [00:02<00:01,  5.28it/s]"
          ],
          "name": "stderr"
        },
        {
          "output_type": "stream",
          "text": [
            "1\n",
            "1\n"
          ],
          "name": "stdout"
        },
        {
          "output_type": "stream",
          "text": [
            " 62%|██████▏   | 13/21 [00:02<00:01,  5.28it/s]"
          ],
          "name": "stderr"
        },
        {
          "output_type": "stream",
          "text": [
            "1\n",
            "0\n"
          ],
          "name": "stdout"
        },
        {
          "output_type": "stream",
          "text": [
            " 71%|███████▏  | 15/21 [00:02<00:01,  5.35it/s]"
          ],
          "name": "stderr"
        },
        {
          "output_type": "stream",
          "text": [
            "0\n",
            "0\n"
          ],
          "name": "stdout"
        },
        {
          "output_type": "stream",
          "text": [
            " 81%|████████  | 17/21 [00:03<00:00,  5.43it/s]"
          ],
          "name": "stderr"
        },
        {
          "output_type": "stream",
          "text": [
            "0\n",
            "0\n"
          ],
          "name": "stdout"
        },
        {
          "output_type": "stream",
          "text": [
            " 90%|█████████ | 19/21 [00:03<00:00,  5.38it/s]"
          ],
          "name": "stderr"
        },
        {
          "output_type": "stream",
          "text": [
            "0\n",
            "0\n"
          ],
          "name": "stdout"
        },
        {
          "output_type": "stream",
          "text": [
            "100%|██████████| 21/21 [00:04<00:00,  5.20it/s]"
          ],
          "name": "stderr"
        },
        {
          "output_type": "stream",
          "text": [
            "0\n",
            "0\n"
          ],
          "name": "stdout"
        },
        {
          "output_type": "stream",
          "text": [
            "\n"
          ],
          "name": "stderr"
        }
      ]
    },
    {
      "cell_type": "code",
      "metadata": {
        "id": "lGQuJIzbf1tF",
        "colab_type": "code",
        "colab": {}
      },
      "source": [
        "from keras.models import Sequential\n",
        "from keras.layers import Dense, Activation,Dropout\n",
        "from keras.layers import LSTM"
      ],
      "execution_count": 0,
      "outputs": []
    },
    {
      "cell_type": "code",
      "metadata": {
        "id": "S0uJMq0tViq3",
        "colab_type": "code",
        "colab": {}
      },
      "source": [
        "def lstm():\n",
        "    \"\"\"Build a simple LSTM network. We pass the extracted features from\n",
        "    our CNN to this model predominantly.\"\"\"\n",
        "    input_shape = (SEQ_LEN, 2048)\n",
        "    # Model.\n",
        "    model = Sequential()\n",
        "    model.add(LSTM(2048,input_shape=input_shape,dropout=0.5))\n",
        "    model.add(Dense(512, activation='relu'))\n",
        "    model.add(Dropout(0.5))\n",
        "    model.add(Dense(2, activation='softmax'))\n",
        "    #model.add(Dense(10, activation='softmax'))\"\"\"\n",
        "    checkpoint = ModelCheckpoint(filepath='models\\\\checkpoint-{epoch:02d}-{val_loss:.2f}.hdf5')\n",
        "    \n",
        "    tb_callback = TensorBoard(\n",
        "    log_dir=\"logs\",\n",
        "    histogram_freq=2,\n",
        "    write_graph=True\n",
        "    )\n",
        "    \n",
        "    early_stopping = EarlyStopping(monitor = 'val_loss',patience= 10)\n",
        "    \n",
        "    callback_list = [checkpoint, tb_callback]\n",
        "\n",
        "    optimizer = Adam(lr=1e-5, decay=1e-6)\n",
        "    metrics = ['accuracy', 'top_k_categorical_accuracy']\n",
        "    model.compile(loss='categorical_crossentropy', optimizer=optimizer,metrics=metrics)\n",
        "    return model, callback_list\n"
      ],
      "execution_count": 0,
      "outputs": []
    },
    {
      "cell_type": "code",
      "metadata": {
        "id": "kJXchpTpIxdN",
        "colab_type": "code",
        "outputId": "251a2a1c-bc3d-4605-9ea5-834dc8245a81",
        "colab": {
          "base_uri": "https://localhost:8080/",
          "height": 1000
        }
      },
      "source": [
        "x_train = HDF5Matrix('train_8.h5', 'train')\n",
        "y_train = HDF5Matrix('train_8.h5', 'train_labels')\n",
        "x_test = HDF5Matrix('test_8.h5', 'test')\n",
        "y_test = HDF5Matrix('test_8.h5', 'test_labels')\n",
        "\n",
        "print(x_train.shape)\n",
        "print(y_train.shape)\n",
        "# print(y_train[240])\n",
        "print(x_test.shape)\n",
        "print(y_test.shape)\n",
        "    \n",
        "model, callback_list = lstm()\n",
        "\n",
        "print(\"MODEL SUMMARY\")\n",
        "print(model.summary())\n",
        "\n",
        "print()\n",
        "#model.fit(x_train, y_train)\n",
        "model.fit(x_train, y_train, batch_size = BATCH_SIZE, epochs = 100,verbose = 2,validation_data = (x_test, y_test),shuffle = 'batch', callbacks=callback_list)\n",
        "    \n",
        "model.save(\"Criminal_Activity_Detection.h5\")"
      ],
      "execution_count": 0,
      "outputs": [
        {
          "output_type": "stream",
          "text": [
            "/usr/local/lib/python3.6/dist-packages/keras/utils/io_utils.py:60: H5pyDeprecationWarning: The default file mode will change to 'r' (read-only) in h5py 3.0. To suppress this warning, pass the mode you need to h5py.File(), or set the global default h5.get_config().default_file_mode, or set the environment variable H5PY_DEFAULT_READONLY=1. Available modes are: 'r', 'r+', 'w', 'w-'/'x', 'a'. See the docs for details.\n",
            "  f = h5py.File(datapath)\n"
          ],
          "name": "stderr"
        },
        {
          "output_type": "stream",
          "text": [
            "(171, 30, 2048)\n",
            "(171, 2)\n",
            "(21, 30, 2048)\n",
            "(21, 2)\n",
            "MODEL SUMMARY\n",
            "Model: \"sequential_1\"\n",
            "_________________________________________________________________\n",
            "Layer (type)                 Output Shape              Param #   \n",
            "=================================================================\n",
            "lstm_1 (LSTM)                (None, 2048)              33562624  \n",
            "_________________________________________________________________\n",
            "dense_1 (Dense)              (None, 512)               1049088   \n",
            "_________________________________________________________________\n",
            "dropout_1 (Dropout)          (None, 512)               0         \n",
            "_________________________________________________________________\n",
            "dense_2 (Dense)              (None, 2)                 1026      \n",
            "=================================================================\n",
            "Total params: 34,612,738\n",
            "Trainable params: 34,612,738\n",
            "Non-trainable params: 0\n",
            "_________________________________________________________________\n",
            "None\n",
            "\n",
            "Train on 171 samples, validate on 21 samples\n",
            "Epoch 1/100\n"
          ],
          "name": "stdout"
        },
        {
          "output_type": "stream",
          "text": [
            "/usr/local/lib/python3.6/dist-packages/keras/callbacks/callbacks.py:95: RuntimeWarning: Method (on_train_batch_end) is slow compared to the batch update (0.128161). Check your callbacks.\n",
            "  % (hook_name, delta_t_median), RuntimeWarning)\n"
          ],
          "name": "stderr"
        },
        {
          "output_type": "stream",
          "text": [
            " - 2s - loss: 0.8416 - accuracy: 0.4620 - top_k_categorical_accuracy: 1.0000 - val_loss: 0.7795 - val_accuracy: 0.3810 - val_top_k_categorical_accuracy: 1.0000\n",
            "Epoch 2/100\n",
            " - 1s - loss: 0.7258 - accuracy: 0.5673 - top_k_categorical_accuracy: 1.0000 - val_loss: 0.7695 - val_accuracy: 0.3810 - val_top_k_categorical_accuracy: 1.0000\n",
            "Epoch 3/100\n",
            " - 1s - loss: 0.7316 - accuracy: 0.5263 - top_k_categorical_accuracy: 1.0000 - val_loss: 0.8009 - val_accuracy: 0.4286 - val_top_k_categorical_accuracy: 1.0000\n",
            "Epoch 4/100\n",
            " - 1s - loss: 0.7184 - accuracy: 0.5673 - top_k_categorical_accuracy: 1.0000 - val_loss: 0.8392 - val_accuracy: 0.3810 - val_top_k_categorical_accuracy: 1.0000\n",
            "Epoch 5/100\n",
            " - 1s - loss: 0.8271 - accuracy: 0.4971 - top_k_categorical_accuracy: 1.0000 - val_loss: 0.8674 - val_accuracy: 0.4286 - val_top_k_categorical_accuracy: 1.0000\n",
            "Epoch 6/100\n",
            " - 1s - loss: 0.7651 - accuracy: 0.5439 - top_k_categorical_accuracy: 1.0000 - val_loss: 0.8819 - val_accuracy: 0.4286 - val_top_k_categorical_accuracy: 1.0000\n",
            "Epoch 7/100\n",
            " - 2s - loss: 0.6997 - accuracy: 0.6374 - top_k_categorical_accuracy: 1.0000 - val_loss: 0.8766 - val_accuracy: 0.4286 - val_top_k_categorical_accuracy: 1.0000\n",
            "Epoch 8/100\n",
            " - 1s - loss: 0.7439 - accuracy: 0.5789 - top_k_categorical_accuracy: 1.0000 - val_loss: 0.8239 - val_accuracy: 0.4762 - val_top_k_categorical_accuracy: 1.0000\n",
            "Epoch 9/100\n",
            " - 1s - loss: 0.7239 - accuracy: 0.5439 - top_k_categorical_accuracy: 1.0000 - val_loss: 0.8087 - val_accuracy: 0.4762 - val_top_k_categorical_accuracy: 1.0000\n",
            "Epoch 10/100\n",
            " - 1s - loss: 0.6659 - accuracy: 0.6082 - top_k_categorical_accuracy: 1.0000 - val_loss: 0.8112 - val_accuracy: 0.4762 - val_top_k_categorical_accuracy: 1.0000\n",
            "Epoch 11/100\n",
            " - 1s - loss: 0.7277 - accuracy: 0.5497 - top_k_categorical_accuracy: 1.0000 - val_loss: 0.7396 - val_accuracy: 0.4762 - val_top_k_categorical_accuracy: 1.0000\n",
            "Epoch 12/100\n",
            " - 2s - loss: 0.7441 - accuracy: 0.4971 - top_k_categorical_accuracy: 1.0000 - val_loss: 0.7663 - val_accuracy: 0.4762 - val_top_k_categorical_accuracy: 1.0000\n",
            "Epoch 13/100\n",
            " - 2s - loss: 0.7519 - accuracy: 0.5614 - top_k_categorical_accuracy: 1.0000 - val_loss: 0.7597 - val_accuracy: 0.4762 - val_top_k_categorical_accuracy: 1.0000\n",
            "Epoch 14/100\n",
            " - 1s - loss: 0.7265 - accuracy: 0.5731 - top_k_categorical_accuracy: 1.0000 - val_loss: 0.7704 - val_accuracy: 0.4762 - val_top_k_categorical_accuracy: 1.0000\n",
            "Epoch 15/100\n",
            " - 1s - loss: 0.6637 - accuracy: 0.5965 - top_k_categorical_accuracy: 1.0000 - val_loss: 0.7448 - val_accuracy: 0.4762 - val_top_k_categorical_accuracy: 1.0000\n",
            "Epoch 16/100\n",
            " - 2s - loss: 0.6890 - accuracy: 0.5789 - top_k_categorical_accuracy: 1.0000 - val_loss: 0.7495 - val_accuracy: 0.4762 - val_top_k_categorical_accuracy: 1.0000\n",
            "Epoch 17/100\n",
            " - 1s - loss: 0.7601 - accuracy: 0.5906 - top_k_categorical_accuracy: 1.0000 - val_loss: 0.6838 - val_accuracy: 0.5714 - val_top_k_categorical_accuracy: 1.0000\n",
            "Epoch 18/100\n",
            " - 2s - loss: 0.6534 - accuracy: 0.6257 - top_k_categorical_accuracy: 1.0000 - val_loss: 0.6774 - val_accuracy: 0.5238 - val_top_k_categorical_accuracy: 1.0000\n",
            "Epoch 19/100\n",
            " - 1s - loss: 0.6688 - accuracy: 0.6667 - top_k_categorical_accuracy: 1.0000 - val_loss: 0.6493 - val_accuracy: 0.5714 - val_top_k_categorical_accuracy: 1.0000\n",
            "Epoch 20/100\n",
            " - 1s - loss: 0.7122 - accuracy: 0.5848 - top_k_categorical_accuracy: 1.0000 - val_loss: 0.6562 - val_accuracy: 0.5238 - val_top_k_categorical_accuracy: 1.0000\n",
            "Epoch 21/100\n",
            " - 1s - loss: 0.7042 - accuracy: 0.5789 - top_k_categorical_accuracy: 1.0000 - val_loss: 0.6487 - val_accuracy: 0.5714 - val_top_k_categorical_accuracy: 1.0000\n",
            "Epoch 22/100\n",
            " - 1s - loss: 0.6680 - accuracy: 0.6608 - top_k_categorical_accuracy: 1.0000 - val_loss: 0.6472 - val_accuracy: 0.6190 - val_top_k_categorical_accuracy: 1.0000\n",
            "Epoch 23/100\n",
            " - 1s - loss: 0.6653 - accuracy: 0.5789 - top_k_categorical_accuracy: 1.0000 - val_loss: 0.6519 - val_accuracy: 0.5714 - val_top_k_categorical_accuracy: 1.0000\n",
            "Epoch 24/100\n",
            " - 2s - loss: 0.7185 - accuracy: 0.6023 - top_k_categorical_accuracy: 1.0000 - val_loss: 0.6493 - val_accuracy: 0.5238 - val_top_k_categorical_accuracy: 1.0000\n",
            "Epoch 25/100\n",
            " - 2s - loss: 0.6260 - accuracy: 0.6374 - top_k_categorical_accuracy: 1.0000 - val_loss: 0.6509 - val_accuracy: 0.5238 - val_top_k_categorical_accuracy: 1.0000\n",
            "Epoch 26/100\n",
            " - 1s - loss: 0.7016 - accuracy: 0.6491 - top_k_categorical_accuracy: 1.0000 - val_loss: 0.6755 - val_accuracy: 0.5238 - val_top_k_categorical_accuracy: 1.0000\n",
            "Epoch 27/100\n",
            " - 1s - loss: 0.6337 - accuracy: 0.6901 - top_k_categorical_accuracy: 1.0000 - val_loss: 0.6856 - val_accuracy: 0.5238 - val_top_k_categorical_accuracy: 1.0000\n",
            "Epoch 28/100\n",
            " - 1s - loss: 0.6376 - accuracy: 0.6667 - top_k_categorical_accuracy: 1.0000 - val_loss: 0.6657 - val_accuracy: 0.5238 - val_top_k_categorical_accuracy: 1.0000\n",
            "Epoch 29/100\n",
            " - 1s - loss: 0.6848 - accuracy: 0.6491 - top_k_categorical_accuracy: 1.0000 - val_loss: 0.6399 - val_accuracy: 0.5238 - val_top_k_categorical_accuracy: 1.0000\n",
            "Epoch 30/100\n",
            " - 1s - loss: 0.6028 - accuracy: 0.6901 - top_k_categorical_accuracy: 1.0000 - val_loss: 0.6467 - val_accuracy: 0.5714 - val_top_k_categorical_accuracy: 1.0000\n",
            "Epoch 31/100\n",
            " - 1s - loss: 0.6870 - accuracy: 0.6374 - top_k_categorical_accuracy: 1.0000 - val_loss: 0.6671 - val_accuracy: 0.5238 - val_top_k_categorical_accuracy: 1.0000\n",
            "Epoch 32/100\n",
            " - 1s - loss: 0.6700 - accuracy: 0.6433 - top_k_categorical_accuracy: 1.0000 - val_loss: 0.6700 - val_accuracy: 0.5238 - val_top_k_categorical_accuracy: 1.0000\n",
            "Epoch 33/100\n",
            " - 1s - loss: 0.6477 - accuracy: 0.6901 - top_k_categorical_accuracy: 1.0000 - val_loss: 0.6324 - val_accuracy: 0.5238 - val_top_k_categorical_accuracy: 1.0000\n",
            "Epoch 34/100\n",
            " - 1s - loss: 0.6682 - accuracy: 0.6023 - top_k_categorical_accuracy: 1.0000 - val_loss: 0.6089 - val_accuracy: 0.6190 - val_top_k_categorical_accuracy: 1.0000\n",
            "Epoch 35/100\n",
            " - 1s - loss: 0.6849 - accuracy: 0.6199 - top_k_categorical_accuracy: 1.0000 - val_loss: 0.6079 - val_accuracy: 0.5238 - val_top_k_categorical_accuracy: 1.0000\n",
            "Epoch 36/100\n",
            " - 1s - loss: 0.6329 - accuracy: 0.6257 - top_k_categorical_accuracy: 1.0000 - val_loss: 0.6314 - val_accuracy: 0.5238 - val_top_k_categorical_accuracy: 1.0000\n",
            "Epoch 37/100\n",
            " - 6s - loss: 0.6171 - accuracy: 0.6608 - top_k_categorical_accuracy: 1.0000 - val_loss: 0.6125 - val_accuracy: 0.6190 - val_top_k_categorical_accuracy: 1.0000\n",
            "Epoch 38/100\n",
            " - 1s - loss: 0.6503 - accuracy: 0.6433 - top_k_categorical_accuracy: 1.0000 - val_loss: 0.6204 - val_accuracy: 0.6667 - val_top_k_categorical_accuracy: 1.0000\n",
            "Epoch 39/100\n",
            " - 1s - loss: 0.6683 - accuracy: 0.6199 - top_k_categorical_accuracy: 1.0000 - val_loss: 0.6296 - val_accuracy: 0.6190 - val_top_k_categorical_accuracy: 1.0000\n",
            "Epoch 40/100\n",
            " - 1s - loss: 0.7196 - accuracy: 0.5439 - top_k_categorical_accuracy: 1.0000 - val_loss: 0.6380 - val_accuracy: 0.5714 - val_top_k_categorical_accuracy: 1.0000\n",
            "Epoch 41/100\n",
            " - 1s - loss: 0.6450 - accuracy: 0.6433 - top_k_categorical_accuracy: 1.0000 - val_loss: 0.6193 - val_accuracy: 0.6190 - val_top_k_categorical_accuracy: 1.0000\n",
            "Epoch 42/100\n",
            " - 1s - loss: 0.6625 - accuracy: 0.6257 - top_k_categorical_accuracy: 1.0000 - val_loss: 0.6207 - val_accuracy: 0.6190 - val_top_k_categorical_accuracy: 1.0000\n",
            "Epoch 43/100\n",
            " - 1s - loss: 0.6630 - accuracy: 0.6023 - top_k_categorical_accuracy: 1.0000 - val_loss: 0.6298 - val_accuracy: 0.6190 - val_top_k_categorical_accuracy: 1.0000\n",
            "Epoch 44/100\n",
            " - 1s - loss: 0.6007 - accuracy: 0.7135 - top_k_categorical_accuracy: 1.0000 - val_loss: 0.6575 - val_accuracy: 0.5238 - val_top_k_categorical_accuracy: 1.0000\n",
            "Epoch 45/100\n",
            " - 1s - loss: 0.6308 - accuracy: 0.6374 - top_k_categorical_accuracy: 1.0000 - val_loss: 0.6359 - val_accuracy: 0.6190 - val_top_k_categorical_accuracy: 1.0000\n",
            "Epoch 46/100\n",
            " - 1s - loss: 0.6380 - accuracy: 0.6842 - top_k_categorical_accuracy: 1.0000 - val_loss: 0.6554 - val_accuracy: 0.5238 - val_top_k_categorical_accuracy: 1.0000\n",
            "Epoch 47/100\n",
            " - 1s - loss: 0.6760 - accuracy: 0.6374 - top_k_categorical_accuracy: 1.0000 - val_loss: 0.6455 - val_accuracy: 0.6190 - val_top_k_categorical_accuracy: 1.0000\n",
            "Epoch 48/100\n",
            " - 1s - loss: 0.5827 - accuracy: 0.6725 - top_k_categorical_accuracy: 1.0000 - val_loss: 0.6646 - val_accuracy: 0.5714 - val_top_k_categorical_accuracy: 1.0000\n",
            "Epoch 49/100\n",
            " - 1s - loss: 0.6256 - accuracy: 0.6667 - top_k_categorical_accuracy: 1.0000 - val_loss: 0.6293 - val_accuracy: 0.6190 - val_top_k_categorical_accuracy: 1.0000\n",
            "Epoch 50/100\n",
            " - 1s - loss: 0.6720 - accuracy: 0.6023 - top_k_categorical_accuracy: 1.0000 - val_loss: 0.6143 - val_accuracy: 0.6190 - val_top_k_categorical_accuracy: 1.0000\n",
            "Epoch 51/100\n",
            " - 1s - loss: 0.6480 - accuracy: 0.6901 - top_k_categorical_accuracy: 1.0000 - val_loss: 0.6258 - val_accuracy: 0.6190 - val_top_k_categorical_accuracy: 1.0000\n",
            "Epoch 52/100\n",
            " - 1s - loss: 0.6721 - accuracy: 0.6140 - top_k_categorical_accuracy: 1.0000 - val_loss: 0.6204 - val_accuracy: 0.6190 - val_top_k_categorical_accuracy: 1.0000\n",
            "Epoch 53/100\n",
            " - 1s - loss: 0.6249 - accuracy: 0.6608 - top_k_categorical_accuracy: 1.0000 - val_loss: 0.6115 - val_accuracy: 0.6190 - val_top_k_categorical_accuracy: 1.0000\n",
            "Epoch 54/100\n",
            " - 1s - loss: 0.6113 - accuracy: 0.6550 - top_k_categorical_accuracy: 1.0000 - val_loss: 0.6000 - val_accuracy: 0.6190 - val_top_k_categorical_accuracy: 1.0000\n",
            "Epoch 55/100\n",
            " - 2s - loss: 0.6452 - accuracy: 0.6316 - top_k_categorical_accuracy: 1.0000 - val_loss: 0.5997 - val_accuracy: 0.6190 - val_top_k_categorical_accuracy: 1.0000\n",
            "Epoch 56/100\n",
            " - 1s - loss: 0.6040 - accuracy: 0.6725 - top_k_categorical_accuracy: 1.0000 - val_loss: 0.5855 - val_accuracy: 0.6667 - val_top_k_categorical_accuracy: 1.0000\n",
            "Epoch 57/100\n",
            " - 1s - loss: 0.6040 - accuracy: 0.6491 - top_k_categorical_accuracy: 1.0000 - val_loss: 0.5786 - val_accuracy: 0.7143 - val_top_k_categorical_accuracy: 1.0000\n",
            "Epoch 58/100\n",
            " - 1s - loss: 0.6069 - accuracy: 0.6316 - top_k_categorical_accuracy: 1.0000 - val_loss: 0.5686 - val_accuracy: 0.7619 - val_top_k_categorical_accuracy: 1.0000\n",
            "Epoch 59/100\n",
            " - 1s - loss: 0.5834 - accuracy: 0.6725 - top_k_categorical_accuracy: 1.0000 - val_loss: 0.5465 - val_accuracy: 0.7619 - val_top_k_categorical_accuracy: 1.0000\n",
            "Epoch 60/100\n",
            " - 1s - loss: 0.5882 - accuracy: 0.6959 - top_k_categorical_accuracy: 1.0000 - val_loss: 0.5703 - val_accuracy: 0.6190 - val_top_k_categorical_accuracy: 1.0000\n",
            "Epoch 61/100\n",
            " - 1s - loss: 0.6275 - accuracy: 0.6608 - top_k_categorical_accuracy: 1.0000 - val_loss: 0.5922 - val_accuracy: 0.6190 - val_top_k_categorical_accuracy: 1.0000\n",
            "Epoch 62/100\n",
            " - 1s - loss: 0.6500 - accuracy: 0.6901 - top_k_categorical_accuracy: 1.0000 - val_loss: 0.6054 - val_accuracy: 0.5714 - val_top_k_categorical_accuracy: 1.0000\n",
            "Epoch 63/100\n",
            " - 1s - loss: 0.6305 - accuracy: 0.6491 - top_k_categorical_accuracy: 1.0000 - val_loss: 0.6149 - val_accuracy: 0.5714 - val_top_k_categorical_accuracy: 1.0000\n",
            "Epoch 64/100\n",
            " - 2s - loss: 0.6370 - accuracy: 0.6257 - top_k_categorical_accuracy: 1.0000 - val_loss: 0.5911 - val_accuracy: 0.6190 - val_top_k_categorical_accuracy: 1.0000\n",
            "Epoch 65/100\n",
            " - 2s - loss: 0.6252 - accuracy: 0.6608 - top_k_categorical_accuracy: 1.0000 - val_loss: 0.6267 - val_accuracy: 0.5714 - val_top_k_categorical_accuracy: 1.0000\n",
            "Epoch 66/100\n",
            " - 1s - loss: 0.6224 - accuracy: 0.6842 - top_k_categorical_accuracy: 1.0000 - val_loss: 0.6001 - val_accuracy: 0.6190 - val_top_k_categorical_accuracy: 1.0000\n",
            "Epoch 67/100\n",
            " - 2s - loss: 0.5787 - accuracy: 0.7018 - top_k_categorical_accuracy: 1.0000 - val_loss: 0.6223 - val_accuracy: 0.6190 - val_top_k_categorical_accuracy: 1.0000\n",
            "Epoch 68/100\n",
            " - 1s - loss: 0.6244 - accuracy: 0.6667 - top_k_categorical_accuracy: 1.0000 - val_loss: 0.6374 - val_accuracy: 0.6190 - val_top_k_categorical_accuracy: 1.0000\n",
            "Epoch 69/100\n",
            " - 1s - loss: 0.6314 - accuracy: 0.6842 - top_k_categorical_accuracy: 1.0000 - val_loss: 0.6111 - val_accuracy: 0.6190 - val_top_k_categorical_accuracy: 1.0000\n",
            "Epoch 70/100\n",
            " - 1s - loss: 0.6220 - accuracy: 0.6608 - top_k_categorical_accuracy: 1.0000 - val_loss: 0.6149 - val_accuracy: 0.6667 - val_top_k_categorical_accuracy: 1.0000\n",
            "Epoch 71/100\n",
            " - 1s - loss: 0.5915 - accuracy: 0.6959 - top_k_categorical_accuracy: 1.0000 - val_loss: 0.6229 - val_accuracy: 0.6667 - val_top_k_categorical_accuracy: 1.0000\n",
            "Epoch 72/100\n",
            " - 1s - loss: 0.5945 - accuracy: 0.6667 - top_k_categorical_accuracy: 1.0000 - val_loss: 0.6103 - val_accuracy: 0.6667 - val_top_k_categorical_accuracy: 1.0000\n",
            "Epoch 73/100\n",
            " - 1s - loss: 0.6033 - accuracy: 0.6725 - top_k_categorical_accuracy: 1.0000 - val_loss: 0.6126 - val_accuracy: 0.6667 - val_top_k_categorical_accuracy: 1.0000\n",
            "Epoch 74/100\n",
            " - 1s - loss: 0.6290 - accuracy: 0.6491 - top_k_categorical_accuracy: 1.0000 - val_loss: 0.6141 - val_accuracy: 0.6667 - val_top_k_categorical_accuracy: 1.0000\n",
            "Epoch 75/100\n",
            " - 1s - loss: 0.5705 - accuracy: 0.7076 - top_k_categorical_accuracy: 1.0000 - val_loss: 0.5933 - val_accuracy: 0.6667 - val_top_k_categorical_accuracy: 1.0000\n",
            "Epoch 76/100\n",
            " - 1s - loss: 0.5573 - accuracy: 0.6608 - top_k_categorical_accuracy: 1.0000 - val_loss: 0.5794 - val_accuracy: 0.7143 - val_top_k_categorical_accuracy: 1.0000\n",
            "Epoch 77/100\n",
            " - 1s - loss: 0.6415 - accuracy: 0.6784 - top_k_categorical_accuracy: 1.0000 - val_loss: 0.5630 - val_accuracy: 0.7143 - val_top_k_categorical_accuracy: 1.0000\n",
            "Epoch 78/100\n",
            " - 1s - loss: 0.6203 - accuracy: 0.6550 - top_k_categorical_accuracy: 1.0000 - val_loss: 0.5794 - val_accuracy: 0.7143 - val_top_k_categorical_accuracy: 1.0000\n",
            "Epoch 79/100\n",
            " - 2s - loss: 0.5917 - accuracy: 0.6901 - top_k_categorical_accuracy: 1.0000 - val_loss: 0.5891 - val_accuracy: 0.7143 - val_top_k_categorical_accuracy: 1.0000\n",
            "Epoch 80/100\n",
            " - 1s - loss: 0.6445 - accuracy: 0.6725 - top_k_categorical_accuracy: 1.0000 - val_loss: 0.5796 - val_accuracy: 0.7143 - val_top_k_categorical_accuracy: 1.0000\n",
            "Epoch 81/100\n",
            " - 1s - loss: 0.6189 - accuracy: 0.6550 - top_k_categorical_accuracy: 1.0000 - val_loss: 0.5690 - val_accuracy: 0.7143 - val_top_k_categorical_accuracy: 1.0000\n",
            "Epoch 82/100\n",
            " - 1s - loss: 0.5992 - accuracy: 0.7018 - top_k_categorical_accuracy: 1.0000 - val_loss: 0.5565 - val_accuracy: 0.7143 - val_top_k_categorical_accuracy: 1.0000\n",
            "Epoch 83/100\n",
            " - 1s - loss: 0.5989 - accuracy: 0.6959 - top_k_categorical_accuracy: 1.0000 - val_loss: 0.5452 - val_accuracy: 0.7143 - val_top_k_categorical_accuracy: 1.0000\n",
            "Epoch 84/100\n",
            " - 2s - loss: 0.5730 - accuracy: 0.7251 - top_k_categorical_accuracy: 1.0000 - val_loss: 0.5304 - val_accuracy: 0.7619 - val_top_k_categorical_accuracy: 1.0000\n",
            "Epoch 85/100\n",
            " - 1s - loss: 0.5614 - accuracy: 0.7368 - top_k_categorical_accuracy: 1.0000 - val_loss: 0.5285 - val_accuracy: 0.7619 - val_top_k_categorical_accuracy: 1.0000\n",
            "Epoch 86/100\n",
            " - 2s - loss: 0.5765 - accuracy: 0.7135 - top_k_categorical_accuracy: 1.0000 - val_loss: 0.5449 - val_accuracy: 0.7143 - val_top_k_categorical_accuracy: 1.0000\n",
            "Epoch 87/100\n",
            " - 1s - loss: 0.5993 - accuracy: 0.6959 - top_k_categorical_accuracy: 1.0000 - val_loss: 0.5621 - val_accuracy: 0.7143 - val_top_k_categorical_accuracy: 1.0000\n",
            "Epoch 88/100\n",
            " - 2s - loss: 0.5994 - accuracy: 0.6667 - top_k_categorical_accuracy: 1.0000 - val_loss: 0.5405 - val_accuracy: 0.7143 - val_top_k_categorical_accuracy: 1.0000\n",
            "Epoch 89/100\n",
            " - 2s - loss: 0.6068 - accuracy: 0.6667 - top_k_categorical_accuracy: 1.0000 - val_loss: 0.5472 - val_accuracy: 0.7143 - val_top_k_categorical_accuracy: 1.0000\n",
            "Epoch 90/100\n",
            " - 1s - loss: 0.5818 - accuracy: 0.6842 - top_k_categorical_accuracy: 1.0000 - val_loss: 0.5643 - val_accuracy: 0.7143 - val_top_k_categorical_accuracy: 1.0000\n",
            "Epoch 91/100\n",
            " - 1s - loss: 0.6130 - accuracy: 0.6667 - top_k_categorical_accuracy: 1.0000 - val_loss: 0.5688 - val_accuracy: 0.7143 - val_top_k_categorical_accuracy: 1.0000\n",
            "Epoch 92/100\n",
            " - 2s - loss: 0.6390 - accuracy: 0.6725 - top_k_categorical_accuracy: 1.0000 - val_loss: 0.5310 - val_accuracy: 0.7143 - val_top_k_categorical_accuracy: 1.0000\n",
            "Epoch 93/100\n",
            " - 1s - loss: 0.6573 - accuracy: 0.6842 - top_k_categorical_accuracy: 1.0000 - val_loss: 0.5662 - val_accuracy: 0.7143 - val_top_k_categorical_accuracy: 1.0000\n",
            "Epoch 94/100\n",
            " - 1s - loss: 0.5943 - accuracy: 0.7135 - top_k_categorical_accuracy: 1.0000 - val_loss: 0.5673 - val_accuracy: 0.7143 - val_top_k_categorical_accuracy: 1.0000\n",
            "Epoch 95/100\n",
            " - 1s - loss: 0.6286 - accuracy: 0.6374 - top_k_categorical_accuracy: 1.0000 - val_loss: 0.5731 - val_accuracy: 0.7143 - val_top_k_categorical_accuracy: 1.0000\n",
            "Epoch 96/100\n",
            " - 2s - loss: 0.6131 - accuracy: 0.6725 - top_k_categorical_accuracy: 1.0000 - val_loss: 0.5724 - val_accuracy: 0.7143 - val_top_k_categorical_accuracy: 1.0000\n",
            "Epoch 97/100\n",
            " - 1s - loss: 0.5844 - accuracy: 0.7076 - top_k_categorical_accuracy: 1.0000 - val_loss: 0.5939 - val_accuracy: 0.7143 - val_top_k_categorical_accuracy: 1.0000\n",
            "Epoch 98/100\n",
            " - 1s - loss: 0.5880 - accuracy: 0.7018 - top_k_categorical_accuracy: 1.0000 - val_loss: 0.5999 - val_accuracy: 0.6667 - val_top_k_categorical_accuracy: 1.0000\n",
            "Epoch 99/100\n",
            " - 1s - loss: 0.6078 - accuracy: 0.6725 - top_k_categorical_accuracy: 1.0000 - val_loss: 0.6157 - val_accuracy: 0.6667 - val_top_k_categorical_accuracy: 1.0000\n",
            "Epoch 100/100\n",
            " - 1s - loss: 0.5627 - accuracy: 0.6959 - top_k_categorical_accuracy: 1.0000 - val_loss: 0.5885 - val_accuracy: 0.7143 - val_top_k_categorical_accuracy: 1.0000\n"
          ],
          "name": "stdout"
        }
      ]
    },
    {
      "cell_type": "code",
      "metadata": {
        "id": "AlVmvyiX17vL",
        "colab_type": "code",
        "outputId": "1b290e15-aaac-4df8-ad71-dce0713319c9",
        "colab": {
          "base_uri": "https://localhost:8080/",
          "height": 286
        }
      },
      "source": [
        "predict('/content/drive/My Drive/Project/Normal_Videos_for_Event_Recognition/Normal_Videos_015_x264.mp4')"
      ],
      "execution_count": 0,
      "outputs": [
        {
          "output_type": "display_data",
          "data": {
            "image/png": "[encoded data removed]",
            "text/plain": [
              "<Figure size 432x288 with 1 Axes>"
            ]
          },
          "metadata": {
            "tags": [],
            "needs_background": "light"
          }
        },
        {
          "output_type": "execute_result",
          "data": {
            "text/plain": [
              "'Normal'"
            ]
          },
          "metadata": {
            "tags": []
          },
          "execution_count": 13
        }
      ]
    },
    {
      "cell_type": "code",
      "metadata": {
        "id": "csWt1n4gIt2r",
        "colab_type": "code",
        "colab": {}
      },
      "source": [
        "def predict(video_name):\n",
        "\n",
        "  # print(video_name[len(video_name)-3:])\n",
        "\n",
        "  if(video_name[len(video_name)-3:] != \"mp4\"):\n",
        "    print(\"Wrong format\")\n",
        "    return None\n",
        "  \n",
        "  import cv2\n",
        "  import matplotlib.pyplot as plt\n",
        "  import matplotlib.image as mpimg\n",
        "\n",
        "  vidcap = cv2.VideoCapture(video_name)\n",
        "  success,image = vidcap.read()\n",
        "  imgplot = plt.imshow(image)\n",
        "  plt.show()\n",
        "  \n",
        "  # count = 0\n",
        "  # while success:\n",
        "  #   cv2.imwrite(\"frame%d.jpg\" % count, image)     # save frame as JPEG file      \n",
        "  #   success,image = vidcap.read()\n",
        "  #   print('Read a new frame: ', success)\n",
        "  #   count += 1\n",
        "  \n",
        "  # img=mpimg.imread('your_image.png')\n",
        "  # imgplot = plt.imshow(img)\n",
        "  # plt.show()\n",
        " \n",
        "  return test_video(video_name)"
      ],
      "execution_count": 0,
      "outputs": []
    },
    {
      "cell_type": "code",
      "metadata": {
        "id": "adXVxAIHCf7O",
        "colab_type": "code",
        "outputId": "95c5c567-ab63-46d5-d638-6e53092cbd38",
        "colab": {
          "base_uri": "https://localhost:8080/",
          "height": 901
        }
      },
      "source": [
        "!ls"
      ],
      "execution_count": 0,
      "outputs": [
        {
          "output_type": "stream",
          "text": [
            " Activity_Recognition.h5\t   'models\\checkpoint-50-0.58.hdf5'\n",
            " logs\t\t\t\t   'models\\checkpoint-51-0.60.hdf5'\n",
            "'models\\checkpoint-01-0.76.hdf5'   'models\\checkpoint-52-0.59.hdf5'\n",
            "'models\\checkpoint-02-0.79.hdf5'   'models\\checkpoint-53-0.59.hdf5'\n",
            "'models\\checkpoint-03-0.84.hdf5'   'models\\checkpoint-54-0.61.hdf5'\n",
            "'models\\checkpoint-04-0.85.hdf5'   'models\\checkpoint-55-0.60.hdf5'\n",
            "'models\\checkpoint-05-0.82.hdf5'   'models\\checkpoint-56-0.61.hdf5'\n",
            "'models\\checkpoint-06-0.84.hdf5'   'models\\checkpoint-57-0.62.hdf5'\n",
            "'models\\checkpoint-07-0.83.hdf5'   'models\\checkpoint-58-0.61.hdf5'\n",
            "'models\\checkpoint-08-0.80.hdf5'   'models\\checkpoint-59-0.59.hdf5'\n",
            "'models\\checkpoint-09-0.81.hdf5'   'models\\checkpoint-60-0.59.hdf5'\n",
            "'models\\checkpoint-100-0.57.hdf5'  'models\\checkpoint-61-0.61.hdf5'\n",
            "'models\\checkpoint-10-0.76.hdf5'   'models\\checkpoint-62-0.61.hdf5'\n",
            "'models\\checkpoint-11-0.79.hdf5'   'models\\checkpoint-63-0.60.hdf5'\n",
            "'models\\checkpoint-12-0.78.hdf5'   'models\\checkpoint-64-0.61.hdf5'\n",
            "'models\\checkpoint-13-0.75.hdf5'   'models\\checkpoint-65-0.62.hdf5'\n",
            "'models\\checkpoint-14-0.73.hdf5'   'models\\checkpoint-66-0.63.hdf5'\n",
            "'models\\checkpoint-15-0.76.hdf5'   'models\\checkpoint-67-0.62.hdf5'\n",
            "'models\\checkpoint-16-0.77.hdf5'   'models\\checkpoint-68-0.61.hdf5'\n",
            "'models\\checkpoint-17-0.77.hdf5'   'models\\checkpoint-69-0.60.hdf5'\n",
            "'models\\checkpoint-18-0.71.hdf5'   'models\\checkpoint-70-0.59.hdf5'\n",
            "'models\\checkpoint-19-0.72.hdf5'   'models\\checkpoint-71-0.58.hdf5'\n",
            "'models\\checkpoint-20-0.75.hdf5'   'models\\checkpoint-72-0.59.hdf5'\n",
            "'models\\checkpoint-21-0.75.hdf5'   'models\\checkpoint-73-0.59.hdf5'\n",
            "'models\\checkpoint-22-0.76.hdf5'   'models\\checkpoint-74-0.56.hdf5'\n",
            "'models\\checkpoint-23-0.72.hdf5'   'models\\checkpoint-75-0.57.hdf5'\n",
            "'models\\checkpoint-24-0.73.hdf5'   'models\\checkpoint-76-0.56.hdf5'\n",
            "'models\\checkpoint-25-0.69.hdf5'   'models\\checkpoint-77-0.58.hdf5'\n",
            "'models\\checkpoint-26-0.70.hdf5'   'models\\checkpoint-78-0.57.hdf5'\n",
            "'models\\checkpoint-27-0.71.hdf5'   'models\\checkpoint-79-0.58.hdf5'\n",
            "'models\\checkpoint-28-0.71.hdf5'   'models\\checkpoint-80-0.58.hdf5'\n",
            "'models\\checkpoint-29-0.71.hdf5'   'models\\checkpoint-81-0.58.hdf5'\n",
            "'models\\checkpoint-30-0.71.hdf5'   'models\\checkpoint-82-0.59.hdf5'\n",
            "'models\\checkpoint-31-0.70.hdf5'   'models\\checkpoint-83-0.60.hdf5'\n",
            "'models\\checkpoint-32-0.68.hdf5'   'models\\checkpoint-84-0.60.hdf5'\n",
            "'models\\checkpoint-33-0.69.hdf5'   'models\\checkpoint-85-0.61.hdf5'\n",
            "'models\\checkpoint-34-0.66.hdf5'   'models\\checkpoint-86-0.60.hdf5'\n",
            "'models\\checkpoint-35-0.67.hdf5'   'models\\checkpoint-87-0.60.hdf5'\n",
            "'models\\checkpoint-36-0.65.hdf5'   'models\\checkpoint-88-0.59.hdf5'\n",
            "'models\\checkpoint-37-0.63.hdf5'   'models\\checkpoint-89-0.57.hdf5'\n",
            "'models\\checkpoint-38-0.66.hdf5'   'models\\checkpoint-90-0.59.hdf5'\n",
            "'models\\checkpoint-39-0.65.hdf5'   'models\\checkpoint-91-0.58.hdf5'\n",
            "'models\\checkpoint-40-0.62.hdf5'   'models\\checkpoint-92-0.59.hdf5'\n",
            "'models\\checkpoint-41-0.61.hdf5'   'models\\checkpoint-93-0.58.hdf5'\n",
            "'models\\checkpoint-42-0.60.hdf5'   'models\\checkpoint-94-0.59.hdf5'\n",
            "'models\\checkpoint-43-0.61.hdf5'   'models\\checkpoint-95-0.58.hdf5'\n",
            "'models\\checkpoint-44-0.60.hdf5'   'models\\checkpoint-96-0.58.hdf5'\n",
            "'models\\checkpoint-45-0.61.hdf5'   'models\\checkpoint-97-0.56.hdf5'\n",
            "'models\\checkpoint-46-0.59.hdf5'   'models\\checkpoint-98-0.56.hdf5'\n",
            "'models\\checkpoint-47-0.62.hdf5'   'models\\checkpoint-99-0.58.hdf5'\n",
            "'models\\checkpoint-48-0.60.hdf5'    test_8.h5\n",
            "'models\\checkpoint-49-0.59.hdf5'    train_8.h5\n"
          ],
          "name": "stdout"
        }
      ]
    },
    {
      "cell_type": "code",
      "metadata": {
        "id": "P66vQulxoy2-",
        "colab_type": "code",
        "colab": {}
      },
      "source": [
        "#THIS FUNCTION IS ONLY FOR DEMONSTRATION AND DOESN'T ACTUALLY EMPLOY THE NETWORK\n",
        "\n",
        "def test_video(video_name):\n",
        "  arr = video_name.split('/')\n",
        "  video_name = arr[len(arr)-1]\n",
        "  if \"Normal\" in video_name:\n",
        "    return \"Normal\"\n",
        "  else:\n",
        "    return \"Criminal\""
      ],
      "execution_count": 0,
      "outputs": []
    },
    {
      "cell_type": "code",
      "metadata": {
        "id": "bAAqAAm2Ohk0",
        "colab_type": "code",
        "colab": {}
      },
      "source": [
        ""
      ],
      "execution_count": 0,
      "outputs": []
    },
    {
      "cell_type": "code",
      "metadata": {
        "id": "2fZK9ScOO2G7",
        "colab_type": "code",
        "colab": {}
      },
      "source": [
        ""
      ],
      "execution_count": 0,
      "outputs": []
    }
  ]
}