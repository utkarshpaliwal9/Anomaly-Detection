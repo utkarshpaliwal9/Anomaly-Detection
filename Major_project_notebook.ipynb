{
  "nbformat": 4,
  "nbformat_minor": 0,
  "metadata": {
    "colab": {
      "name": "Major project notebook.ipynb",
      "provenance": [],
      "collapsed_sections": [],
      "toc_visible": true,
      "include_colab_link": true
    },
    "kernelspec": {
      "name": "python3",
      "display_name": "Python 3"
    }
  },
  "cells": [
    {
      "cell_type": "markdown",
      "metadata": {
        "id": "view-in-github",
        "colab_type": "text"
      },
      "source": [
        "<a href=\"https://colab.research.google.com/github/utkarshpaliwal9/Anomaly-Detection/blob/master/Major_project_notebook.ipynb\" target=\"_parent\"><img src=\"https://colab.research.google.com/assets/colab-badge.svg\" alt=\"Open In Colab\"/></a>"
      ]
    },
    {
      "cell_type": "markdown",
      "metadata": {
        "id": "IvXjAHsbcKY7",
        "colab_type": "text"
      },
      "source": [
        "## Criminal Activity Recognition"
      ]
    },
    {
      "cell_type": "code",
      "metadata": {
        "id": "ylTxivSXbaBw",
        "colab_type": "code",
        "outputId": "1cfdabb8-3159-4236-d9a8-e8a5c1fe8688",
        "colab": {
          "base_uri": "https://localhost:8080/",
          "height": 122
        }
      },
      "source": [
        "from google.colab import drive\n",
        "drive.mount('/content/drive')"
      ],
      "execution_count": 1,
      "outputs": [
        {
          "output_type": "stream",
          "text": [
            "Go to this URL in a browser: https://accounts.google.com/o/oauth2/auth?client_id=947318989803-6bn6qk8qdgf4n4g3pfee6491hc0brc4i.apps.googleusercontent.com&redirect_uri=urn%3aietf%3awg%3aoauth%3a2.0%3aoob&response_type=code&scope=email%20https%3a%2f%2fwww.googleapis.com%2fauth%2fdocs.test%20https%3a%2f%2fwww.googleapis.com%2fauth%2fdrive%20https%3a%2f%2fwww.googleapis.com%2fauth%2fdrive.photos.readonly%20https%3a%2f%2fwww.googleapis.com%2fauth%2fpeopleapi.readonly\n",
            "\n",
            "Enter your authorization code:\n",
            "··········\n",
            "Mounted at /content/drive\n"
          ],
          "name": "stdout"
        }
      ]
    },
    {
      "cell_type": "code",
      "metadata": {
        "id": "ossgjxLiHxjB",
        "colab_type": "code",
        "colab": {}
      },
      "source": [
        "import os\n",
        "import pandas as pd\n",
        "# os.chdir('/content/drive/My Drive/Project')\n",
        "# data = pd.read_csv('CrimeDS.txt', sep=\"\\n\", header=None)\n",
        "# print(data.iloc[0].values[0])\n",
        "os.chdir('/content/drive/My Drive/Project/AnomalyVideos')"
      ],
      "execution_count": 0,
      "outputs": []
    },
    {
      "cell_type": "code",
      "metadata": {
        "id": "K12tg9E9yO-G",
        "colab_type": "code",
        "colab": {}
      },
      "source": [
        "data = []\n",
        "\n",
        "for name in os.listdir():\n",
        "  if(name[len(name)-1] == '4'):\n",
        "    data.append(name)"
      ],
      "execution_count": 0,
      "outputs": []
    },
    {
      "cell_type": "code",
      "metadata": {
        "id": "f4OPr2YRzTkc",
        "colab_type": "code",
        "colab": {}
      },
      "source": [
        "# data"
      ],
      "execution_count": 0,
      "outputs": []
    },
    {
      "cell_type": "code",
      "metadata": {
        "id": "S6K-D8-ecIYb",
        "colab_type": "code",
        "colab": {}
      },
      "source": [
        "# !wget 'https://ucb7dca99505e76e54fa172ef606.dl.dropboxusercontent.com/cd/0/get/AwnTshqOOPemhrjTqZXlfp02PCkgNJSJt8jhllVUuRTJn90nr_5blsJzj0JrrIDnpQ2lApMyJKY3KTi_4saPTdvB3611txsv82RztoOYS5GARg/file?_download_id=011006157493155033421613254309845225599327459049660434941660553837&_notify_domain=www.dropbox.com&dl=1'"
      ],
      "execution_count": 0,
      "outputs": []
    },
    {
      "cell_type": "code",
      "metadata": {
        "id": "lP-IsF-5cIt2",
        "colab_type": "code",
        "colab": {}
      },
      "source": [
        "# !7z x '/content/anomaly_part2.zip'"
      ],
      "execution_count": 0,
      "outputs": []
    },
    {
      "cell_type": "code",
      "metadata": {
        "id": "04lD2v2CJWt-",
        "colab_type": "code",
        "colab": {}
      },
      "source": [
        "# import cv2\n",
        "# videos_info = []\n",
        "\n",
        "# for i in range(len(data)):\n",
        "#   name_of_video = data.iloc[i].values[0]\n",
        "#   class_of_video = \"\"\n",
        "#   cap = cv2.VideoCapture(name_of_video)\n",
        "#   length = int(cap.get(cv2.CAP_PROP_FRAME_COUNT))\n",
        "#   for j in range(len(name_of_video)):\n",
        "#     if name_of_video[j].isdigit() or name_of_video[j] == '_':\n",
        "#       break\n",
        "#     else:\n",
        "#       class_of_video += name_of_video[j]\n",
        "#   #print(i, str(i%11))\n",
        "#   #print((i % 11 == 1) or (i % 11 == 3) or (i % 11 == 7))\n",
        "#   if((i % 11 == 1) or (i % 11 == 3) or (i % 11 == 7)):\n",
        "#     videos_info.append([\"test\", class_of_video, name_of_video, length])\n",
        "#   else:\n",
        "#     videos_info.append([\"train\", class_of_video, name_of_video, length])\n",
        "\n",
        "# #print(videos_info, sep=\",\", end=\"\\n\")"
      ],
      "execution_count": 0,
      "outputs": []
    },
    {
      "cell_type": "code",
      "metadata": {
        "id": "IukbapY9mKCY",
        "colab_type": "code",
        "colab": {}
      },
      "source": [
        "import cv2\n",
        "videos_info = []\n",
        "\n",
        "for i in range(len(data)):\n",
        "  name_of_video = data[i]\n",
        "  class_of_video = \"\"\n",
        "  cap = cv2.VideoCapture(name_of_video)\n",
        "  length = int(cap.get(cv2.CAP_PROP_FRAME_COUNT))\n",
        "  if(\"Normal\" in name_of_video):\n",
        "    class_of_video = \"Normal\"\n",
        "  else:\n",
        "    class_of_video = \"Criminal\"\n",
        "\n",
        "  if(i%100 <= 10):\n",
        "    videos_info.append([\"test\", class_of_video, name_of_video, length])\n",
        "  else:\n",
        "    videos_info.append([\"train\", class_of_video, name_of_video, length])"
      ],
      "execution_count": 0,
      "outputs": []
    },
    {
      "cell_type": "code",
      "metadata": {
        "id": "JT-kvlm3a9so",
        "colab_type": "code",
        "colab": {}
      },
      "source": [
        "# print(videos_info, sep=\",\", end=\"\\n\")\n",
        "# new_df = [['train', 'Arrest', 'Arrest002_x264.mp4', 1790], ['test', 'Arrest', 'Arrest003_x264.mp4', 3054],['train', 'Normal', 'Normal_Videos011_x264.mp4', 897], ['test', 'Normal', 'Normal_Videos020_x264.mp4', 485]]"
      ],
      "execution_count": 0,
      "outputs": []
    },
    {
      "cell_type": "code",
      "metadata": {
        "id": "lfrRbmGdfP-W",
        "colab_type": "code",
        "colab": {}
      },
      "source": [
        "# videos_info"
      ],
      "execution_count": 0,
      "outputs": []
    },
    {
      "cell_type": "code",
      "metadata": {
        "id": "_pl63_GYTtEa",
        "colab_type": "code",
        "colab": {}
      },
      "source": [
        "# videos_df = pd.DataFrame(videos_info)\n",
        "# print(videos_df)\n",
        "# #include =['object', 'float', 'int'] \n",
        "# #videos_df.describe(include = include)"
      ],
      "execution_count": 0,
      "outputs": []
    },
    {
      "cell_type": "code",
      "metadata": {
        "id": "viYq7NaCbV8x",
        "colab_type": "code",
        "outputId": "c0d95765-2b21-406d-b926-135d5da83dd4",
        "colab": {
          "base_uri": "https://localhost:8080/",
          "height": 255
        }
      },
      "source": [
        "videos_df = pd.DataFrame(data= videos_info, columns= ['partition', 'class', 'video_name', 'frames'])\n",
        "print(videos_df[:100])"
      ],
      "execution_count": 0,
      "outputs": [
        {
          "output_type": "stream",
          "text": [
            "   partition     class                 video_name  frames\n",
            "0       test  Criminal         Arrest001_x264.mp4    2374\n",
            "1       test  Criminal         Arrest002_x264.mp4    1790\n",
            "2       test  Criminal         Arrest003_x264.mp4    3054\n",
            "3       test  Criminal         Arrest004_x264.mp4    3603\n",
            "4       test  Criminal         Arrest005_x264.mp4    3685\n",
            "..       ...       ...                        ...     ...\n",
            "95     train  Criminal          Arson050_x264.mp4    1581\n",
            "96     train    Normal  Normal_Videos004_x264.mp4     917\n",
            "97     train    Normal  Normal_Videos005_x264.mp4     386\n",
            "98     train    Normal  Normal_Videos007_x264.mp4     985\n",
            "99     train    Normal  Normal_Videos008_x264.mp4    2567\n",
            "\n",
            "[100 rows x 4 columns]\n"
          ],
          "name": "stdout"
        }
      ]
    },
    {
      "cell_type": "code",
      "metadata": {
        "id": "UlW36haSpoAT",
        "colab_type": "code",
        "outputId": "cfeee6db-022d-4d2c-85d5-386d35b6a0ec",
        "colab": {
          "base_uri": "https://localhost:8080/",
          "height": 34
        }
      },
      "source": [
        "# un = videos_df['partition'].unique()\n",
        "# print(un)"
      ],
      "execution_count": 0,
      "outputs": [
        {
          "output_type": "stream",
          "text": [
            "['train' 'test']\n"
          ],
          "name": "stdout"
        }
      ]
    },
    {
      "cell_type": "code",
      "metadata": {
        "id": "zOHQ7a5_aqUD",
        "colab_type": "code",
        "outputId": "b1ea2402-971b-4cc2-cd09-59691a312e1c",
        "colab": {
          "base_uri": "https://localhost:8080/",
          "height": 34
        }
      },
      "source": [
        "import pandas as pd\n",
        "import numpy as np\n",
        "import cv2\n",
        "import os\n",
        "import h5py\n",
        "from tqdm import tqdm\n",
        "from keras.preprocessing import image\n",
        "from keras.applications.inception_v3 import InceptionV3, preprocess_input\n",
        "from keras.models import Model, load_model, Sequential\n",
        "from keras.layers import Input, LSTM, Dense, Dropout\n",
        "from keras.utils import to_categorical\n",
        "from keras.applications.imagenet_utils import preprocess_input\n",
        "from keras.optimizers import Adam\n",
        "from keras.callbacks import ModelCheckpoint, TensorBoard,EarlyStopping\n",
        "from keras.utils.io_utils import HDF5Matrix\n",
        "\n",
        "SEQ_LEN = 30\n",
        "MAX_SEQ_LEN = 3000\n",
        "BATCH_SIZE = 16\n",
        "EPOCHS = 100\n",
        "RUN_NUMBER = \"B2\""
      ],
      "execution_count": 0,
      "outputs": [
        {
          "output_type": "stream",
          "text": [
            "Using TensorFlow backend.\n"
          ],
          "name": "stderr"
        }
      ]
    },
    {
      "cell_type": "code",
      "metadata": {
        "id": "doq8RcCGCFNx",
        "colab_type": "code",
        "colab": {}
      },
      "source": [
        ""
      ],
      "execution_count": 0,
      "outputs": []
    },
    {
      "cell_type": "code",
      "metadata": {
        "id": "8rQW1WYscPY7",
        "colab_type": "code",
        "colab": {}
      },
      "source": [
        "def main():\n",
        "    # Get model with pretrained weights.\n",
        "    base_model = InceptionV3(\n",
        "    weights='imagenet',\n",
        "    include_top=True)\n",
        "    \n",
        "    \n",
        "    # We'll extract features at the final pool layer.\n",
        "    model = Model(\n",
        "        inputs=base_model.input,\n",
        "        outputs=base_model.get_layer('avg_pool').output)\n",
        "    \n",
        "    # Getting the data\n",
        "    df = get_data('') #INSERT PATH IF READING FROM FILE REQUIRED\n",
        "\n",
        "    # print(\"_____DF_____\")\n",
        "    # print(df)\n",
        "    \n",
        "    # Clean the data\n",
        "    df_clean = clean_data(df)\n",
        "    # print(\"_____DF-Clean_____\")\n",
        "    # print(df_clean)\n",
        "    \n",
        "    # Creating index-label maps and inverse_maps\n",
        "    label_index, index_label = get_class_dict(df_clean)\n",
        "    # print(\"\\n\\nlabel_index, index_label _____ \")\n",
        "    # print(label_index, index_label)\n",
        "    \n",
        "    # Split the dataset into train and test\n",
        "    train, test = split_train_test(df_clean)\n",
        "    # print(\"\\n\\n_____TRAIN_____\")\n",
        "    # print(train)\n",
        "    # print('\\n\\n_______TEST______')\n",
        "    # print(test)\n",
        "    \n",
        "    # Encoding the dataset\n",
        "    encode_dataset(train, model, label_index, \"train\")\n",
        "    encode_dataset(test,model,label_index,\"test\")\n",
        "    \n",
        "   "
      ],
      "execution_count": 0,
      "outputs": []
    },
    {
      "cell_type": "code",
      "metadata": {
        "id": "6CSH8rX1IKYD",
        "colab_type": "code",
        "outputId": "541db8ba-1599-4f76-b000-90cd5d5b7548",
        "colab": {
          "base_uri": "https://localhost:8080/",
          "height": 34
        }
      },
      "source": [
        "# !ls"
      ],
      "execution_count": 0,
      "outputs": [
        {
          "output_type": "stream",
          "text": [
            "Human-Action-Classification-  sample_data\n"
          ],
          "name": "stdout"
        }
      ]
    },
    {
      "cell_type": "code",
      "metadata": {
        "id": "QusjBRpYdR5r",
        "colab_type": "code",
        "outputId": "b4b9597c-5a55-4248-d3be-f70b59cf917f",
        "colab": {
          "base_uri": "https://localhost:8080/",
          "height": 49
        }
      },
      "source": [
        "# mask = np.logical_and(videos_df[3] >= SEQ_LEN, videos_df[3] <= MAX_SEQ_LEN)\n",
        "# videos_df[mask]"
      ],
      "execution_count": 0,
      "outputs": [
        {
          "output_type": "execute_result",
          "data": {
            "text/html": [
              "<div>\n",
              "<style scoped>\n",
              "    .dataframe tbody tr th:only-of-type {\n",
              "        vertical-align: middle;\n",
              "    }\n",
              "\n",
              "    .dataframe tbody tr th {\n",
              "        vertical-align: top;\n",
              "    }\n",
              "\n",
              "    .dataframe thead th {\n",
              "        text-align: right;\n",
              "    }\n",
              "</style>\n",
              "<table border=\"1\" class=\"dataframe\">\n",
              "  <thead>\n",
              "    <tr style=\"text-align: right;\">\n",
              "      <th></th>\n",
              "      <th>0</th>\n",
              "      <th>1</th>\n",
              "      <th>2</th>\n",
              "      <th>3</th>\n",
              "    </tr>\n",
              "  </thead>\n",
              "  <tbody>\n",
              "  </tbody>\n",
              "</table>\n",
              "</div>"
            ],
            "text/plain": [
              "Empty DataFrame\n",
              "Columns: [0, 1, 2, 3]\n",
              "Index: []"
            ]
          },
          "metadata": {
            "tags": []
          },
          "execution_count": 28
        }
      ]
    },
    {
      "cell_type": "code",
      "metadata": {
        "id": "TH7GXfBQoAEN",
        "colab_type": "code",
        "colab": {}
      },
      "source": [
        "#p = videos_df.groupby(['partition'])\n",
        "#p.get_group(\"test\")"
      ],
      "execution_count": 0,
      "outputs": []
    },
    {
      "cell_type": "code",
      "metadata": {
        "id": "47a0U3JMpIBC",
        "colab_type": "code",
        "colab": {}
      },
      "source": [
        "#videos_df"
      ],
      "execution_count": 0,
      "outputs": []
    },
    {
      "cell_type": "code",
      "metadata": {
        "id": "M9-tCCZscPW6",
        "colab_type": "code",
        "colab": {}
      },
      "source": [
        "os.mkdir(\"/content/drive/My Drive/Project/\"+RUN_NUMBER)\n",
        "os.chdir(\"/content/drive/My Drive/Project/\"+RUN_NUMBER)\n",
        "\n",
        "def get_data(path, if_pd=False):\n",
        "    \"\"\"Load our data from file.\"\"\"\n",
        "    names = ['partition', 'class', 'video_name', 'frames']\n",
        "    df = pd.DataFrame(data = videos_info, columns= names)\n",
        "    return df\n",
        "\n",
        "def get_class_dict(df):\n",
        "    class_name =  list(df['class'].unique())\n",
        "    index = np.arange(0, len(class_name))\n",
        "    label_index = dict(zip(class_name, index))\n",
        "    index_label = dict(zip(index, class_name))\n",
        "    return (label_index, index_label)\n",
        "    \n",
        "def clean_data(df):\n",
        "    mask = np.logical_and(df['frames'] >= SEQ_LEN, df['frames'] <= MAX_SEQ_LEN)\n",
        "    df = df[mask]\n",
        "    return df\n",
        "    \n",
        "def split_train_test(df):\n",
        "    partition =  (df.groupby(['partition']))\n",
        "    un = df['partition'].unique()\n",
        "    train = partition.get_group(un[0])\n",
        "    test = partition.get_group(un[1])\n",
        "    return (train, test)\n",
        "\n",
        "def preprocess_image(img):\n",
        "    img = cv2.resize(img, (299,299))\n",
        "    return preprocess_input(img)\n",
        "    \n",
        "    \n",
        "def encode_video(row, model, label_index):\n",
        "\n",
        "    import matplotlib.pyplot as plt\n",
        "    import matplotlib.image as mpimg\n",
        "\n",
        "    # success,image = vidcap.read()\n",
        "    # imgplot = plt.imshow(image)\n",
        "    # plt.show()\n",
        "    cap = cv2.VideoCapture(\"/content/drive/My Drive/Project/AnomalyVideos/\" + str(row[\"video_name\"].iloc[0]))\n",
        "    images = []  \n",
        "    for i in range(SEQ_LEN):\n",
        "        ret, frame = cap.read()\n",
        "        # im = plt.imshow(frame)\n",
        "        # plt.show()\n",
        "        frame = preprocess_image(frame)\n",
        "        images.append(frame)\n",
        "    \n",
        "    \n",
        "    features = model.predict(np.array(images))\n",
        "    index = label_index[row[\"class\"].iloc[0]]\n",
        "    print(index)\n",
        "    #y_onehot = to_categorical(index, len(label_index.keys()))\n",
        "    \n",
        "    return features, index\n",
        "\n",
        "from keras.utils import np_utils\n",
        "def encode_dataset(data, model, label_index, phase):\n",
        "    input_f = []\n",
        "    output_y = []\n",
        "    required_classes = [\"Criminal\" , \"Normal\"]\n",
        "   \n",
        "    \n",
        "    for i in tqdm(range(data.shape[0])):\n",
        "    # Check whether the given row , is of a class that is required\n",
        "        if str(data.iloc[[i]][\"class\"].iloc[0]) in required_classes:\n",
        " \n",
        "            # print(\"===\")\n",
        "            # print(data.iloc[[i]])\n",
        "            # print(\"===\")\n",
        "            # print(model)\n",
        "            # print(\"===\")\n",
        "            # print(label_index)\n",
        "            # print(\"===\")\n",
        "            features,y =  encode_video(data.iloc[[i]], model, label_index)\n",
        "            input_f.append(features)\n",
        "            output_y.append(y)\n",
        "        \n",
        "    \n",
        "    le_labels = np_utils.to_categorical(output_y)\n",
        "    f = h5py.File(phase+'_8'+'.h5', 'w')\n",
        "    f.create_dataset(phase, data=np.array(input_f))\n",
        "    f.create_dataset(phase+\"_labels\", data=np.array(le_labels))\n",
        "    \n",
        "    del input_f[:]\n",
        "    del output_y[:]\n",
        "\n"
      ],
      "execution_count": 0,
      "outputs": []
    },
    {
      "cell_type": "code",
      "metadata": {
        "id": "Bk3pEtMvqED_",
        "colab_type": "code",
        "colab": {}
      },
      "source": [
        "# print(clean_data(videos_df))"
      ],
      "execution_count": 0,
      "outputs": []
    },
    {
      "cell_type": "code",
      "metadata": {
        "id": "NnkJp3ljcPam",
        "colab_type": "code",
        "outputId": "2e2f8ca8-3b4d-413b-88ed-df3b95cd4c5e",
        "colab": {
          "base_uri": "https://localhost:8080/",
          "height": 1000
        }
      },
      "source": [
        "main()"
      ],
      "execution_count": 0,
      "outputs": [
        {
          "output_type": "stream",
          "text": [
            "Downloading data from https://github.com/fchollet/deep-learning-models/releases/download/v0.5/inception_v3_weights_tf_dim_ordering_tf_kernels.h5\n",
            "96116736/96112376 [==============================] - 1s 0us/step\n"
          ],
          "name": "stdout"
        },
        {
          "output_type": "stream",
          "text": [
            " 10%|▉         | 2/21 [00:09<02:05,  6.61s/it]"
          ],
          "name": "stderr"
        },
        {
          "output_type": "stream",
          "text": [
            "0\n",
            "0\n"
          ],
          "name": "stdout"
        },
        {
          "output_type": "stream",
          "text": [
            " 19%|█▉        | 4/21 [00:09<00:56,  3.33s/it]"
          ],
          "name": "stderr"
        },
        {
          "output_type": "stream",
          "text": [
            "0\n",
            "0\n"
          ],
          "name": "stdout"
        },
        {
          "output_type": "stream",
          "text": [
            "\r 24%|██▍       | 5/21 [00:10<00:38,  2.39s/it]"
          ],
          "name": "stderr"
        },
        {
          "output_type": "stream",
          "text": [
            "0\n"
          ],
          "name": "stdout"
        },
        {
          "output_type": "stream",
          "text": [
            " 33%|███▎      | 7/21 [00:10<00:17,  1.27s/it]"
          ],
          "name": "stderr"
        },
        {
          "output_type": "stream",
          "text": [
            "1\n",
            "1\n"
          ],
          "name": "stdout"
        },
        {
          "output_type": "stream",
          "text": [
            " 43%|████▎     | 9/21 [00:10<00:08,  1.40it/s]"
          ],
          "name": "stderr"
        },
        {
          "output_type": "stream",
          "text": [
            "1\n",
            "1\n"
          ],
          "name": "stdout"
        },
        {
          "output_type": "stream",
          "text": [
            " 52%|█████▏    | 11/21 [00:11<00:04,  2.26it/s]"
          ],
          "name": "stderr"
        },
        {
          "output_type": "stream",
          "text": [
            "1\n",
            "1\n"
          ],
          "name": "stdout"
        },
        {
          "output_type": "stream",
          "text": [
            " 62%|██████▏   | 13/21 [00:11<00:02,  3.22it/s]"
          ],
          "name": "stderr"
        },
        {
          "output_type": "stream",
          "text": [
            "1\n",
            "0\n"
          ],
          "name": "stdout"
        },
        {
          "output_type": "stream",
          "text": [
            " 71%|███████▏  | 15/21 [00:11<00:01,  4.06it/s]"
          ],
          "name": "stderr"
        },
        {
          "output_type": "stream",
          "text": [
            "0\n",
            "0\n"
          ],
          "name": "stdout"
        },
        {
          "output_type": "stream",
          "text": [
            " 81%|████████  | 17/21 [00:12<00:00,  4.69it/s]"
          ],
          "name": "stderr"
        },
        {
          "output_type": "stream",
          "text": [
            "0\n",
            "0\n"
          ],
          "name": "stdout"
        },
        {
          "output_type": "stream",
          "text": [
            " 90%|█████████ | 19/21 [00:12<00:00,  5.02it/s]"
          ],
          "name": "stderr"
        },
        {
          "output_type": "stream",
          "text": [
            "0\n",
            "0\n"
          ],
          "name": "stdout"
        },
        {
          "output_type": "stream",
          "text": [
            "100%|██████████| 21/21 [00:13<00:00,  1.61it/s]"
          ],
          "name": "stderr"
        },
        {
          "output_type": "stream",
          "text": [
            "0\n",
            "0\n"
          ],
          "name": "stdout"
        },
        {
          "output_type": "stream",
          "text": [
            "\n",
            "  1%|          | 2/171 [00:00<00:30,  5.52it/s]"
          ],
          "name": "stderr"
        },
        {
          "output_type": "stream",
          "text": [
            "0\n",
            "0\n"
          ],
          "name": "stdout"
        },
        {
          "output_type": "stream",
          "text": [
            "  2%|▏         | 4/171 [00:00<00:30,  5.52it/s]"
          ],
          "name": "stderr"
        },
        {
          "output_type": "stream",
          "text": [
            "0\n",
            "0\n"
          ],
          "name": "stdout"
        },
        {
          "output_type": "stream",
          "text": [
            "  4%|▎         | 6/171 [00:01<00:30,  5.49it/s]"
          ],
          "name": "stderr"
        },
        {
          "output_type": "stream",
          "text": [
            "0\n",
            "0\n"
          ],
          "name": "stdout"
        },
        {
          "output_type": "stream",
          "text": [
            "  5%|▍         | 8/171 [00:01<00:29,  5.45it/s]"
          ],
          "name": "stderr"
        },
        {
          "output_type": "stream",
          "text": [
            "0\n",
            "0\n"
          ],
          "name": "stdout"
        },
        {
          "output_type": "stream",
          "text": [
            "  6%|▌         | 10/171 [00:01<00:29,  5.37it/s]"
          ],
          "name": "stderr"
        },
        {
          "output_type": "stream",
          "text": [
            "0\n",
            "0\n"
          ],
          "name": "stdout"
        },
        {
          "output_type": "stream",
          "text": [
            "  7%|▋         | 12/171 [00:02<00:29,  5.46it/s]"
          ],
          "name": "stderr"
        },
        {
          "output_type": "stream",
          "text": [
            "0\n",
            "0\n"
          ],
          "name": "stdout"
        },
        {
          "output_type": "stream",
          "text": [
            "  8%|▊         | 14/171 [00:02<00:28,  5.47it/s]"
          ],
          "name": "stderr"
        },
        {
          "output_type": "stream",
          "text": [
            "0\n",
            "0\n"
          ],
          "name": "stdout"
        },
        {
          "output_type": "stream",
          "text": [
            "  9%|▉         | 16/171 [00:02<00:28,  5.42it/s]"
          ],
          "name": "stderr"
        },
        {
          "output_type": "stream",
          "text": [
            "0\n",
            "0\n"
          ],
          "name": "stdout"
        },
        {
          "output_type": "stream",
          "text": [
            " 11%|█         | 18/171 [00:03<00:28,  5.46it/s]"
          ],
          "name": "stderr"
        },
        {
          "output_type": "stream",
          "text": [
            "0\n",
            "0\n"
          ],
          "name": "stdout"
        },
        {
          "output_type": "stream",
          "text": [
            " 12%|█▏        | 20/171 [00:03<00:27,  5.49it/s]"
          ],
          "name": "stderr"
        },
        {
          "output_type": "stream",
          "text": [
            "0\n",
            "0\n"
          ],
          "name": "stdout"
        },
        {
          "output_type": "stream",
          "text": [
            " 13%|█▎        | 22/171 [00:04<00:27,  5.40it/s]"
          ],
          "name": "stderr"
        },
        {
          "output_type": "stream",
          "text": [
            "0\n",
            "0\n"
          ],
          "name": "stdout"
        },
        {
          "output_type": "stream",
          "text": [
            " 14%|█▍        | 24/171 [00:04<00:27,  5.38it/s]"
          ],
          "name": "stderr"
        },
        {
          "output_type": "stream",
          "text": [
            "0\n",
            "0\n"
          ],
          "name": "stdout"
        },
        {
          "output_type": "stream",
          "text": [
            " 15%|█▌        | 26/171 [00:04<00:26,  5.38it/s]"
          ],
          "name": "stderr"
        },
        {
          "output_type": "stream",
          "text": [
            "0\n",
            "0\n"
          ],
          "name": "stdout"
        },
        {
          "output_type": "stream",
          "text": [
            " 16%|█▋        | 28/171 [00:05<00:26,  5.38it/s]"
          ],
          "name": "stderr"
        },
        {
          "output_type": "stream",
          "text": [
            "0\n",
            "0\n"
          ],
          "name": "stdout"
        },
        {
          "output_type": "stream",
          "text": [
            " 18%|█▊        | 30/171 [00:05<00:25,  5.47it/s]"
          ],
          "name": "stderr"
        },
        {
          "output_type": "stream",
          "text": [
            "0\n",
            "0\n"
          ],
          "name": "stdout"
        },
        {
          "output_type": "stream",
          "text": [
            " 19%|█▊        | 32/171 [00:05<00:25,  5.48it/s]"
          ],
          "name": "stderr"
        },
        {
          "output_type": "stream",
          "text": [
            "0\n",
            "0\n"
          ],
          "name": "stdout"
        },
        {
          "output_type": "stream",
          "text": [
            " 20%|█▉        | 34/171 [00:06<00:24,  5.49it/s]"
          ],
          "name": "stderr"
        },
        {
          "output_type": "stream",
          "text": [
            "0\n",
            "0\n"
          ],
          "name": "stdout"
        },
        {
          "output_type": "stream",
          "text": [
            " 21%|██        | 36/171 [00:06<00:24,  5.41it/s]"
          ],
          "name": "stderr"
        },
        {
          "output_type": "stream",
          "text": [
            "0\n",
            "0\n"
          ],
          "name": "stdout"
        },
        {
          "output_type": "stream",
          "text": [
            " 22%|██▏       | 38/171 [00:06<00:24,  5.38it/s]"
          ],
          "name": "stderr"
        },
        {
          "output_type": "stream",
          "text": [
            "0\n",
            "0\n"
          ],
          "name": "stdout"
        },
        {
          "output_type": "stream",
          "text": [
            " 23%|██▎       | 40/171 [00:07<00:24,  5.34it/s]"
          ],
          "name": "stderr"
        },
        {
          "output_type": "stream",
          "text": [
            "0\n",
            "0\n"
          ],
          "name": "stdout"
        },
        {
          "output_type": "stream",
          "text": [
            " 25%|██▍       | 42/171 [00:07<00:23,  5.40it/s]"
          ],
          "name": "stderr"
        },
        {
          "output_type": "stream",
          "text": [
            "0\n",
            "0\n"
          ],
          "name": "stdout"
        },
        {
          "output_type": "stream",
          "text": [
            " 26%|██▌       | 44/171 [00:08<00:23,  5.46it/s]"
          ],
          "name": "stderr"
        },
        {
          "output_type": "stream",
          "text": [
            "0\n",
            "0\n"
          ],
          "name": "stdout"
        },
        {
          "output_type": "stream",
          "text": [
            " 27%|██▋       | 46/171 [00:08<00:23,  5.36it/s]"
          ],
          "name": "stderr"
        },
        {
          "output_type": "stream",
          "text": [
            "0\n",
            "0\n"
          ],
          "name": "stdout"
        },
        {
          "output_type": "stream",
          "text": [
            " 28%|██▊       | 48/171 [00:08<00:22,  5.43it/s]"
          ],
          "name": "stderr"
        },
        {
          "output_type": "stream",
          "text": [
            "0\n",
            "1\n"
          ],
          "name": "stdout"
        },
        {
          "output_type": "stream",
          "text": [
            " 29%|██▉       | 50/171 [00:09<00:22,  5.39it/s]"
          ],
          "name": "stderr"
        },
        {
          "output_type": "stream",
          "text": [
            "1\n",
            "1\n"
          ],
          "name": "stdout"
        },
        {
          "output_type": "stream",
          "text": [
            " 30%|███       | 52/171 [00:09<00:21,  5.43it/s]"
          ],
          "name": "stderr"
        },
        {
          "output_type": "stream",
          "text": [
            "1\n",
            "1\n"
          ],
          "name": "stdout"
        },
        {
          "output_type": "stream",
          "text": [
            " 32%|███▏      | 54/171 [00:09<00:21,  5.44it/s]"
          ],
          "name": "stderr"
        },
        {
          "output_type": "stream",
          "text": [
            "1\n",
            "1\n"
          ],
          "name": "stdout"
        },
        {
          "output_type": "stream",
          "text": [
            " 33%|███▎      | 56/171 [00:10<00:21,  5.46it/s]"
          ],
          "name": "stderr"
        },
        {
          "output_type": "stream",
          "text": [
            "1\n",
            "1\n"
          ],
          "name": "stdout"
        },
        {
          "output_type": "stream",
          "text": [
            " 34%|███▍      | 58/171 [00:10<00:20,  5.50it/s]"
          ],
          "name": "stderr"
        },
        {
          "output_type": "stream",
          "text": [
            "1\n",
            "1\n"
          ],
          "name": "stdout"
        },
        {
          "output_type": "stream",
          "text": [
            " 35%|███▌      | 60/171 [00:11<00:20,  5.43it/s]"
          ],
          "name": "stderr"
        },
        {
          "output_type": "stream",
          "text": [
            "1\n",
            "1\n"
          ],
          "name": "stdout"
        },
        {
          "output_type": "stream",
          "text": [
            " 36%|███▋      | 62/171 [00:11<00:19,  5.46it/s]"
          ],
          "name": "stderr"
        },
        {
          "output_type": "stream",
          "text": [
            "1\n",
            "1\n"
          ],
          "name": "stdout"
        },
        {
          "output_type": "stream",
          "text": [
            " 37%|███▋      | 64/171 [00:11<00:19,  5.52it/s]"
          ],
          "name": "stderr"
        },
        {
          "output_type": "stream",
          "text": [
            "1\n",
            "1\n"
          ],
          "name": "stdout"
        },
        {
          "output_type": "stream",
          "text": [
            " 39%|███▊      | 66/171 [00:12<00:19,  5.52it/s]"
          ],
          "name": "stderr"
        },
        {
          "output_type": "stream",
          "text": [
            "1\n",
            "1\n"
          ],
          "name": "stdout"
        },
        {
          "output_type": "stream",
          "text": [
            " 40%|███▉      | 68/171 [00:12<00:18,  5.51it/s]"
          ],
          "name": "stderr"
        },
        {
          "output_type": "stream",
          "text": [
            "1\n",
            "1\n"
          ],
          "name": "stdout"
        },
        {
          "output_type": "stream",
          "text": [
            " 41%|████      | 70/171 [00:12<00:18,  5.45it/s]"
          ],
          "name": "stderr"
        },
        {
          "output_type": "stream",
          "text": [
            "1\n",
            "1\n"
          ],
          "name": "stdout"
        },
        {
          "output_type": "stream",
          "text": [
            " 42%|████▏     | 72/171 [00:13<00:18,  5.43it/s]"
          ],
          "name": "stderr"
        },
        {
          "output_type": "stream",
          "text": [
            "1\n",
            "1\n"
          ],
          "name": "stdout"
        },
        {
          "output_type": "stream",
          "text": [
            " 43%|████▎     | 74/171 [00:13<00:17,  5.43it/s]"
          ],
          "name": "stderr"
        },
        {
          "output_type": "stream",
          "text": [
            "1\n",
            "1\n"
          ],
          "name": "stdout"
        },
        {
          "output_type": "stream",
          "text": [
            " 44%|████▍     | 76/171 [00:13<00:17,  5.45it/s]"
          ],
          "name": "stderr"
        },
        {
          "output_type": "stream",
          "text": [
            "1\n",
            "1\n"
          ],
          "name": "stdout"
        },
        {
          "output_type": "stream",
          "text": [
            " 46%|████▌     | 78/171 [00:14<00:17,  5.46it/s]"
          ],
          "name": "stderr"
        },
        {
          "output_type": "stream",
          "text": [
            "1\n",
            "1\n"
          ],
          "name": "stdout"
        },
        {
          "output_type": "stream",
          "text": [
            " 47%|████▋     | 80/171 [00:14<00:16,  5.54it/s]"
          ],
          "name": "stderr"
        },
        {
          "output_type": "stream",
          "text": [
            "1\n",
            "1\n"
          ],
          "name": "stdout"
        },
        {
          "output_type": "stream",
          "text": [
            " 48%|████▊     | 82/171 [00:15<00:16,  5.51it/s]"
          ],
          "name": "stderr"
        },
        {
          "output_type": "stream",
          "text": [
            "1\n",
            "1\n"
          ],
          "name": "stdout"
        },
        {
          "output_type": "stream",
          "text": [
            " 49%|████▉     | 84/171 [00:15<00:15,  5.44it/s]"
          ],
          "name": "stderr"
        },
        {
          "output_type": "stream",
          "text": [
            "1\n",
            "1\n"
          ],
          "name": "stdout"
        },
        {
          "output_type": "stream",
          "text": [
            " 50%|█████     | 86/171 [00:15<00:15,  5.45it/s]"
          ],
          "name": "stderr"
        },
        {
          "output_type": "stream",
          "text": [
            "1\n",
            "1\n"
          ],
          "name": "stdout"
        },
        {
          "output_type": "stream",
          "text": [
            " 51%|█████▏    | 88/171 [00:16<00:15,  5.39it/s]"
          ],
          "name": "stderr"
        },
        {
          "output_type": "stream",
          "text": [
            "1\n",
            "1\n"
          ],
          "name": "stdout"
        },
        {
          "output_type": "stream",
          "text": [
            " 53%|█████▎    | 90/171 [00:16<00:14,  5.44it/s]"
          ],
          "name": "stderr"
        },
        {
          "output_type": "stream",
          "text": [
            "1\n",
            "1\n"
          ],
          "name": "stdout"
        },
        {
          "output_type": "stream",
          "text": [
            " 54%|█████▍    | 92/171 [00:16<00:14,  5.47it/s]"
          ],
          "name": "stderr"
        },
        {
          "output_type": "stream",
          "text": [
            "1\n",
            "1\n"
          ],
          "name": "stdout"
        },
        {
          "output_type": "stream",
          "text": [
            " 55%|█████▍    | 94/171 [00:17<00:14,  5.50it/s]"
          ],
          "name": "stderr"
        },
        {
          "output_type": "stream",
          "text": [
            "1\n",
            "1\n"
          ],
          "name": "stdout"
        },
        {
          "output_type": "stream",
          "text": [
            " 56%|█████▌    | 96/171 [00:17<00:13,  5.55it/s]"
          ],
          "name": "stderr"
        },
        {
          "output_type": "stream",
          "text": [
            "1\n",
            "1\n"
          ],
          "name": "stdout"
        },
        {
          "output_type": "stream",
          "text": [
            " 57%|█████▋    | 98/171 [00:17<00:13,  5.55it/s]"
          ],
          "name": "stderr"
        },
        {
          "output_type": "stream",
          "text": [
            "1\n",
            "1\n"
          ],
          "name": "stdout"
        },
        {
          "output_type": "stream",
          "text": [
            " 58%|█████▊    | 100/171 [00:18<00:12,  5.48it/s]"
          ],
          "name": "stderr"
        },
        {
          "output_type": "stream",
          "text": [
            "1\n",
            "0\n"
          ],
          "name": "stdout"
        },
        {
          "output_type": "stream",
          "text": [
            " 60%|█████▉    | 102/171 [00:18<00:12,  5.37it/s]"
          ],
          "name": "stderr"
        },
        {
          "output_type": "stream",
          "text": [
            "0\n",
            "0\n"
          ],
          "name": "stdout"
        },
        {
          "output_type": "stream",
          "text": [
            " 61%|██████    | 104/171 [00:19<00:12,  5.26it/s]"
          ],
          "name": "stderr"
        },
        {
          "output_type": "stream",
          "text": [
            "0\n",
            "0\n"
          ],
          "name": "stdout"
        },
        {
          "output_type": "stream",
          "text": [
            " 62%|██████▏   | 106/171 [00:19<00:12,  5.28it/s]"
          ],
          "name": "stderr"
        },
        {
          "output_type": "stream",
          "text": [
            "0\n",
            "0\n"
          ],
          "name": "stdout"
        },
        {
          "output_type": "stream",
          "text": [
            " 63%|██████▎   | 108/171 [00:19<00:11,  5.38it/s]"
          ],
          "name": "stderr"
        },
        {
          "output_type": "stream",
          "text": [
            "0\n",
            "0\n"
          ],
          "name": "stdout"
        },
        {
          "output_type": "stream",
          "text": [
            " 64%|██████▍   | 110/171 [00:20<00:11,  5.38it/s]"
          ],
          "name": "stderr"
        },
        {
          "output_type": "stream",
          "text": [
            "0\n",
            "0\n"
          ],
          "name": "stdout"
        },
        {
          "output_type": "stream",
          "text": [
            " 65%|██████▌   | 112/171 [00:20<00:10,  5.47it/s]"
          ],
          "name": "stderr"
        },
        {
          "output_type": "stream",
          "text": [
            "0\n",
            "0\n"
          ],
          "name": "stdout"
        },
        {
          "output_type": "stream",
          "text": [
            " 67%|██████▋   | 114/171 [00:20<00:10,  5.44it/s]"
          ],
          "name": "stderr"
        },
        {
          "output_type": "stream",
          "text": [
            "0\n",
            "0\n"
          ],
          "name": "stdout"
        },
        {
          "output_type": "stream",
          "text": [
            " 68%|██████▊   | 116/171 [00:21<00:10,  5.43it/s]"
          ],
          "name": "stderr"
        },
        {
          "output_type": "stream",
          "text": [
            "0\n",
            "0\n"
          ],
          "name": "stdout"
        },
        {
          "output_type": "stream",
          "text": [
            " 69%|██████▉   | 118/171 [00:21<00:09,  5.46it/s]"
          ],
          "name": "stderr"
        },
        {
          "output_type": "stream",
          "text": [
            "0\n",
            "0\n"
          ],
          "name": "stdout"
        },
        {
          "output_type": "stream",
          "text": [
            " 70%|███████   | 120/171 [00:22<00:09,  5.48it/s]"
          ],
          "name": "stderr"
        },
        {
          "output_type": "stream",
          "text": [
            "0\n",
            "0\n"
          ],
          "name": "stdout"
        },
        {
          "output_type": "stream",
          "text": [
            " 71%|███████▏  | 122/171 [00:22<00:08,  5.52it/s]"
          ],
          "name": "stderr"
        },
        {
          "output_type": "stream",
          "text": [
            "0\n",
            "0\n"
          ],
          "name": "stdout"
        },
        {
          "output_type": "stream",
          "text": [
            " 73%|███████▎  | 124/171 [00:22<00:08,  5.50it/s]"
          ],
          "name": "stderr"
        },
        {
          "output_type": "stream",
          "text": [
            "0\n",
            "0\n"
          ],
          "name": "stdout"
        },
        {
          "output_type": "stream",
          "text": [
            " 74%|███████▎  | 126/171 [00:23<00:08,  5.48it/s]"
          ],
          "name": "stderr"
        },
        {
          "output_type": "stream",
          "text": [
            "0\n",
            "0\n"
          ],
          "name": "stdout"
        },
        {
          "output_type": "stream",
          "text": [
            " 75%|███████▍  | 128/171 [00:23<00:08,  5.37it/s]"
          ],
          "name": "stderr"
        },
        {
          "output_type": "stream",
          "text": [
            "0\n",
            "0\n"
          ],
          "name": "stdout"
        },
        {
          "output_type": "stream",
          "text": [
            " 76%|███████▌  | 130/171 [00:23<00:07,  5.44it/s]"
          ],
          "name": "stderr"
        },
        {
          "output_type": "stream",
          "text": [
            "0\n",
            "0\n"
          ],
          "name": "stdout"
        },
        {
          "output_type": "stream",
          "text": [
            " 77%|███████▋  | 132/171 [00:24<00:07,  5.48it/s]"
          ],
          "name": "stderr"
        },
        {
          "output_type": "stream",
          "text": [
            "1\n",
            "1\n"
          ],
          "name": "stdout"
        },
        {
          "output_type": "stream",
          "text": [
            " 78%|███████▊  | 134/171 [00:24<00:06,  5.49it/s]"
          ],
          "name": "stderr"
        },
        {
          "output_type": "stream",
          "text": [
            "1\n",
            "1\n"
          ],
          "name": "stdout"
        },
        {
          "output_type": "stream",
          "text": [
            " 80%|███████▉  | 136/171 [00:24<00:06,  5.45it/s]"
          ],
          "name": "stderr"
        },
        {
          "output_type": "stream",
          "text": [
            "1\n",
            "1\n"
          ],
          "name": "stdout"
        },
        {
          "output_type": "stream",
          "text": [
            " 81%|████████  | 138/171 [00:25<00:06,  5.37it/s]"
          ],
          "name": "stderr"
        },
        {
          "output_type": "stream",
          "text": [
            "1\n",
            "1\n"
          ],
          "name": "stdout"
        },
        {
          "output_type": "stream",
          "text": [
            " 82%|████████▏ | 140/171 [00:25<00:05,  5.41it/s]"
          ],
          "name": "stderr"
        },
        {
          "output_type": "stream",
          "text": [
            "1\n",
            "1\n"
          ],
          "name": "stdout"
        },
        {
          "output_type": "stream",
          "text": [
            " 83%|████████▎ | 142/171 [00:26<00:05,  5.47it/s]"
          ],
          "name": "stderr"
        },
        {
          "output_type": "stream",
          "text": [
            "1\n",
            "1\n"
          ],
          "name": "stdout"
        },
        {
          "output_type": "stream",
          "text": [
            " 84%|████████▍ | 144/171 [00:26<00:04,  5.46it/s]"
          ],
          "name": "stderr"
        },
        {
          "output_type": "stream",
          "text": [
            "1\n",
            "1\n"
          ],
          "name": "stdout"
        },
        {
          "output_type": "stream",
          "text": [
            " 85%|████████▌ | 146/171 [00:26<00:04,  5.48it/s]"
          ],
          "name": "stderr"
        },
        {
          "output_type": "stream",
          "text": [
            "1\n",
            "1\n"
          ],
          "name": "stdout"
        },
        {
          "output_type": "stream",
          "text": [
            " 87%|████████▋ | 148/171 [00:27<00:04,  5.48it/s]"
          ],
          "name": "stderr"
        },
        {
          "output_type": "stream",
          "text": [
            "1\n",
            "1\n"
          ],
          "name": "stdout"
        },
        {
          "output_type": "stream",
          "text": [
            " 88%|████████▊ | 150/171 [00:27<00:03,  5.40it/s]"
          ],
          "name": "stderr"
        },
        {
          "output_type": "stream",
          "text": [
            "1\n",
            "1\n"
          ],
          "name": "stdout"
        },
        {
          "output_type": "stream",
          "text": [
            " 89%|████████▉ | 152/171 [00:27<00:03,  5.41it/s]"
          ],
          "name": "stderr"
        },
        {
          "output_type": "stream",
          "text": [
            "1\n",
            "1\n"
          ],
          "name": "stdout"
        },
        {
          "output_type": "stream",
          "text": [
            " 90%|█████████ | 154/171 [00:28<00:03,  5.37it/s]"
          ],
          "name": "stderr"
        },
        {
          "output_type": "stream",
          "text": [
            "1\n",
            "1\n"
          ],
          "name": "stdout"
        },
        {
          "output_type": "stream",
          "text": [
            " 91%|█████████ | 156/171 [00:28<00:02,  5.44it/s]"
          ],
          "name": "stderr"
        },
        {
          "output_type": "stream",
          "text": [
            "1\n",
            "1\n"
          ],
          "name": "stdout"
        },
        {
          "output_type": "stream",
          "text": [
            " 92%|█████████▏| 158/171 [00:29<00:02,  5.50it/s]"
          ],
          "name": "stderr"
        },
        {
          "output_type": "stream",
          "text": [
            "1\n",
            "1\n"
          ],
          "name": "stdout"
        },
        {
          "output_type": "stream",
          "text": [
            " 94%|█████████▎| 160/171 [00:29<00:02,  5.43it/s]"
          ],
          "name": "stderr"
        },
        {
          "output_type": "stream",
          "text": [
            "1\n",
            "1\n"
          ],
          "name": "stdout"
        },
        {
          "output_type": "stream",
          "text": [
            " 95%|█████████▍| 162/171 [00:29<00:01,  5.37it/s]"
          ],
          "name": "stderr"
        },
        {
          "output_type": "stream",
          "text": [
            "1\n",
            "1\n"
          ],
          "name": "stdout"
        },
        {
          "output_type": "stream",
          "text": [
            " 96%|█████████▌| 164/171 [00:30<00:01,  5.38it/s]"
          ],
          "name": "stderr"
        },
        {
          "output_type": "stream",
          "text": [
            "1\n",
            "1\n"
          ],
          "name": "stdout"
        },
        {
          "output_type": "stream",
          "text": [
            " 97%|█████████▋| 166/171 [00:30<00:00,  5.41it/s]"
          ],
          "name": "stderr"
        },
        {
          "output_type": "stream",
          "text": [
            "1\n",
            "1\n"
          ],
          "name": "stdout"
        },
        {
          "output_type": "stream",
          "text": [
            " 98%|█████████▊| 168/171 [00:30<00:00,  5.45it/s]"
          ],
          "name": "stderr"
        },
        {
          "output_type": "stream",
          "text": [
            "1\n",
            "1\n"
          ],
          "name": "stdout"
        },
        {
          "output_type": "stream",
          "text": [
            " 99%|█████████▉| 170/171 [00:31<00:00,  5.41it/s]"
          ],
          "name": "stderr"
        },
        {
          "output_type": "stream",
          "text": [
            "1\n",
            "1\n"
          ],
          "name": "stdout"
        },
        {
          "output_type": "stream",
          "text": [
            "100%|██████████| 171/171 [00:31<00:00,  5.43it/s]"
          ],
          "name": "stderr"
        },
        {
          "output_type": "stream",
          "text": [
            "1\n"
          ],
          "name": "stdout"
        },
        {
          "output_type": "stream",
          "text": [
            "\n"
          ],
          "name": "stderr"
        }
      ]
    },
    {
      "cell_type": "code",
      "metadata": {
        "id": "lGQuJIzbf1tF",
        "colab_type": "code",
        "colab": {}
      },
      "source": [
        "from keras.models import Sequential\n",
        "from keras.layers import Dense, Activation,Dropout\n",
        "from keras.layers import LSTM"
      ],
      "execution_count": 0,
      "outputs": []
    },
    {
      "cell_type": "code",
      "metadata": {
        "id": "S0uJMq0tViq3",
        "colab_type": "code",
        "colab": {}
      },
      "source": [
        "def lstm():\n",
        "    \"\"\"Build a simple LSTM network. We pass the extracted features from\n",
        "    our CNN to this model predominantly.\"\"\"\n",
        "    input_shape = (SEQ_LEN, 2048)\n",
        "    # Model.\n",
        "    model = Sequential()\n",
        "    model.add(LSTM(2048,input_shape=input_shape,dropout=0.5))\n",
        "    model.add(Dense(512, activation='relu'))\n",
        "    model.add(Dropout(0.5))\n",
        "    model.add(Dense(2, activation='softmax'))\n",
        "    #model.add(Dense(10, activation='softmax'))\"\"\"\n",
        "    checkpoint = ModelCheckpoint(filepath='models\\\\checkpoint-{epoch:02d}-{val_loss:.2f}.hdf5')\n",
        "    \n",
        "    tb_callback = TensorBoard(\n",
        "    log_dir=\"logs\",\n",
        "    histogram_freq=2,\n",
        "    write_graph=True\n",
        "    )\n",
        "    \n",
        "    early_stopping = EarlyStopping(monitor = 'val_loss',patience= 10)\n",
        "    \n",
        "    callback_list = [checkpoint, tb_callback]\n",
        "\n",
        "    optimizer = Adam(lr=1e-5, decay=1e-6)\n",
        "    metrics = ['accuracy', 'top_k_categorical_accuracy']\n",
        "    model.compile(loss='categorical_crossentropy', optimizer=optimizer,metrics=metrics)\n",
        "    return model, callback_list\n"
      ],
      "execution_count": 0,
      "outputs": []
    },
    {
      "cell_type": "code",
      "metadata": {
        "id": "kJXchpTpIxdN",
        "colab_type": "code",
        "outputId": "5a3a5d47-2265-4109-e1c6-e6d0d8ba6f91",
        "colab": {
          "base_uri": "https://localhost:8080/",
          "height": 1000
        }
      },
      "source": [
        "x_train = HDF5Matrix('train_8.h5', 'train')\n",
        "y_train = HDF5Matrix('train_8.h5', 'train_labels')\n",
        "x_test = HDF5Matrix('test_8.h5', 'test')\n",
        "y_test = HDF5Matrix('test_8.h5', 'test_labels')\n",
        "\n",
        "print(x_train.shape)\n",
        "print(y_train.shape)\n",
        "# print(y_train[240])\n",
        "print(x_test.shape)\n",
        "print(y_test.shape)\n",
        "    \n",
        "model, callback_list = lstm()\n",
        "\n",
        "print(\"MODEL SUMMARY\")\n",
        "print(model.summary())\n",
        "\n",
        "print()\n",
        "#model.fit(x_train, y_train)\n",
        "model.fit(x_train, y_train, batch_size = BATCH_SIZE, epochs = 100,verbose = 2,validation_data = (x_test, y_test),shuffle = 'batch', callbacks=callback_list)\n",
        "    \n",
        "model.save(\"Activity_Recognition.h5\")"
      ],
      "execution_count": 0,
      "outputs": [
        {
          "output_type": "stream",
          "text": [
            "/usr/local/lib/python3.6/dist-packages/keras/utils/io_utils.py:60: H5pyDeprecationWarning: The default file mode will change to 'r' (read-only) in h5py 3.0. To suppress this warning, pass the mode you need to h5py.File(), or set the global default h5.get_config().default_file_mode, or set the environment variable H5PY_DEFAULT_READONLY=1. Available modes are: 'r', 'r+', 'w', 'w-'/'x', 'a'. See the docs for details.\n",
            "  f = h5py.File(datapath)\n"
          ],
          "name": "stderr"
        },
        {
          "output_type": "stream",
          "text": [
            "(21, 30, 2048)\n",
            "(21, 2)\n",
            "(171, 30, 2048)\n",
            "(171, 2)\n",
            "MODEL SUMMARY\n",
            "Model: \"sequential_1\"\n",
            "_________________________________________________________________\n",
            "Layer (type)                 Output Shape              Param #   \n",
            "=================================================================\n",
            "lstm_1 (LSTM)                (None, 2048)              33562624  \n",
            "_________________________________________________________________\n",
            "dense_1 (Dense)              (None, 512)               1049088   \n",
            "_________________________________________________________________\n",
            "dropout_1 (Dropout)          (None, 512)               0         \n",
            "_________________________________________________________________\n",
            "dense_2 (Dense)              (None, 2)                 1026      \n",
            "=================================================================\n",
            "Total params: 34,612,738\n",
            "Trainable params: 34,612,738\n",
            "Non-trainable params: 0\n",
            "_________________________________________________________________\n",
            "None\n",
            "\n",
            "Train on 21 samples, validate on 171 samples\n",
            "Epoch 1/100\n",
            " - 1s - loss: 0.8450 - accuracy: 0.5238 - top_k_categorical_accuracy: 1.0000 - val_loss: 0.8013 - val_accuracy: 0.4737 - val_top_k_categorical_accuracy: 1.0000\n",
            "Epoch 2/100\n",
            " - 0s - loss: 0.8354 - accuracy: 0.6667 - top_k_categorical_accuracy: 1.0000 - val_loss: 0.8226 - val_accuracy: 0.4678 - val_top_k_categorical_accuracy: 1.0000\n",
            "Epoch 3/100\n",
            " - 0s - loss: 0.7872 - accuracy: 0.6190 - top_k_categorical_accuracy: 1.0000 - val_loss: 0.8475 - val_accuracy: 0.4620 - val_top_k_categorical_accuracy: 1.0000\n",
            "Epoch 4/100\n",
            " - 0s - loss: 0.8231 - accuracy: 0.6190 - top_k_categorical_accuracy: 1.0000 - val_loss: 0.8753 - val_accuracy: 0.4561 - val_top_k_categorical_accuracy: 1.0000\n",
            "Epoch 5/100\n",
            " - 0s - loss: 0.7972 - accuracy: 0.4286 - top_k_categorical_accuracy: 1.0000 - val_loss: 0.9030 - val_accuracy: 0.4561 - val_top_k_categorical_accuracy: 1.0000\n",
            "Epoch 6/100\n",
            " - 0s - loss: 0.7973 - accuracy: 0.4762 - top_k_categorical_accuracy: 1.0000 - val_loss: 0.9300 - val_accuracy: 0.4561 - val_top_k_categorical_accuracy: 1.0000\n",
            "Epoch 7/100\n",
            " - 0s - loss: 0.7720 - accuracy: 0.6190 - top_k_categorical_accuracy: 1.0000 - val_loss: 0.9561 - val_accuracy: 0.4561 - val_top_k_categorical_accuracy: 1.0000\n",
            "Epoch 8/100\n",
            " - 1s - loss: 1.0014 - accuracy: 0.6190 - top_k_categorical_accuracy: 1.0000 - val_loss: 0.9805 - val_accuracy: 0.4561 - val_top_k_categorical_accuracy: 1.0000\n",
            "Epoch 9/100\n",
            " - 1s - loss: 0.7947 - accuracy: 0.4286 - top_k_categorical_accuracy: 1.0000 - val_loss: 1.0072 - val_accuracy: 0.4561 - val_top_k_categorical_accuracy: 1.0000\n",
            "Epoch 10/100\n",
            " - 1s - loss: 0.7411 - accuracy: 0.6667 - top_k_categorical_accuracy: 1.0000 - val_loss: 1.0337 - val_accuracy: 0.4561 - val_top_k_categorical_accuracy: 1.0000\n",
            "Epoch 11/100\n",
            " - 1s - loss: 0.8474 - accuracy: 0.6190 - top_k_categorical_accuracy: 1.0000 - val_loss: 1.0557 - val_accuracy: 0.4561 - val_top_k_categorical_accuracy: 1.0000\n",
            "Epoch 12/100\n",
            " - 0s - loss: 0.7414 - accuracy: 0.6190 - top_k_categorical_accuracy: 1.0000 - val_loss: 1.0773 - val_accuracy: 0.4561 - val_top_k_categorical_accuracy: 1.0000\n",
            "Epoch 13/100\n",
            " - 0s - loss: 0.8231 - accuracy: 0.6190 - top_k_categorical_accuracy: 1.0000 - val_loss: 1.1008 - val_accuracy: 0.4561 - val_top_k_categorical_accuracy: 1.0000\n",
            "Epoch 14/100\n",
            " - 0s - loss: 0.6408 - accuracy: 0.6190 - top_k_categorical_accuracy: 1.0000 - val_loss: 1.1208 - val_accuracy: 0.4561 - val_top_k_categorical_accuracy: 1.0000\n",
            "Epoch 15/100\n",
            " - 0s - loss: 0.6473 - accuracy: 0.6190 - top_k_categorical_accuracy: 1.0000 - val_loss: 1.1407 - val_accuracy: 0.4561 - val_top_k_categorical_accuracy: 1.0000\n",
            "Epoch 16/100\n",
            " - 0s - loss: 0.4982 - accuracy: 0.7619 - top_k_categorical_accuracy: 1.0000 - val_loss: 1.1592 - val_accuracy: 0.4561 - val_top_k_categorical_accuracy: 1.0000\n",
            "Epoch 17/100\n",
            " - 0s - loss: 0.7743 - accuracy: 0.6190 - top_k_categorical_accuracy: 1.0000 - val_loss: 1.1763 - val_accuracy: 0.4561 - val_top_k_categorical_accuracy: 1.0000\n",
            "Epoch 18/100\n",
            " - 1s - loss: 0.6389 - accuracy: 0.6667 - top_k_categorical_accuracy: 1.0000 - val_loss: 1.1921 - val_accuracy: 0.4561 - val_top_k_categorical_accuracy: 1.0000\n",
            "Epoch 19/100\n",
            " - 1s - loss: 0.6665 - accuracy: 0.6190 - top_k_categorical_accuracy: 1.0000 - val_loss: 1.2045 - val_accuracy: 0.4561 - val_top_k_categorical_accuracy: 1.0000\n",
            "Epoch 20/100\n",
            " - 1s - loss: 0.8280 - accuracy: 0.5238 - top_k_categorical_accuracy: 1.0000 - val_loss: 1.2174 - val_accuracy: 0.4561 - val_top_k_categorical_accuracy: 1.0000\n",
            "Epoch 21/100\n",
            " - 0s - loss: 0.6861 - accuracy: 0.6667 - top_k_categorical_accuracy: 1.0000 - val_loss: 1.2315 - val_accuracy: 0.4561 - val_top_k_categorical_accuracy: 1.0000\n",
            "Epoch 22/100\n",
            " - 0s - loss: 0.6744 - accuracy: 0.6667 - top_k_categorical_accuracy: 1.0000 - val_loss: 1.2445 - val_accuracy: 0.4561 - val_top_k_categorical_accuracy: 1.0000\n",
            "Epoch 23/100\n",
            " - 0s - loss: 0.7907 - accuracy: 0.6667 - top_k_categorical_accuracy: 1.0000 - val_loss: 1.2560 - val_accuracy: 0.4561 - val_top_k_categorical_accuracy: 1.0000\n",
            "Epoch 24/100\n",
            " - 1s - loss: 0.7922 - accuracy: 0.5238 - top_k_categorical_accuracy: 1.0000 - val_loss: 1.2715 - val_accuracy: 0.4561 - val_top_k_categorical_accuracy: 1.0000\n",
            "Epoch 25/100\n",
            " - 1s - loss: 0.6303 - accuracy: 0.5714 - top_k_categorical_accuracy: 1.0000 - val_loss: 1.2849 - val_accuracy: 0.4561 - val_top_k_categorical_accuracy: 1.0000\n",
            "Epoch 26/100\n",
            " - 1s - loss: 0.5674 - accuracy: 0.6667 - top_k_categorical_accuracy: 1.0000 - val_loss: 1.2963 - val_accuracy: 0.4561 - val_top_k_categorical_accuracy: 1.0000\n",
            "Epoch 27/100\n",
            " - 0s - loss: 0.6861 - accuracy: 0.6667 - top_k_categorical_accuracy: 1.0000 - val_loss: 1.3075 - val_accuracy: 0.4561 - val_top_k_categorical_accuracy: 1.0000\n",
            "Epoch 28/100\n",
            " - 0s - loss: 0.6403 - accuracy: 0.7619 - top_k_categorical_accuracy: 1.0000 - val_loss: 1.3193 - val_accuracy: 0.4561 - val_top_k_categorical_accuracy: 1.0000\n",
            "Epoch 29/100\n",
            " - 1s - loss: 0.6533 - accuracy: 0.7143 - top_k_categorical_accuracy: 1.0000 - val_loss: 1.3361 - val_accuracy: 0.4561 - val_top_k_categorical_accuracy: 1.0000\n",
            "Epoch 30/100\n",
            " - 0s - loss: 0.8083 - accuracy: 0.6667 - top_k_categorical_accuracy: 1.0000 - val_loss: 1.3497 - val_accuracy: 0.4561 - val_top_k_categorical_accuracy: 1.0000\n",
            "Epoch 31/100\n",
            " - 0s - loss: 0.6816 - accuracy: 0.6667 - top_k_categorical_accuracy: 1.0000 - val_loss: 1.3627 - val_accuracy: 0.4561 - val_top_k_categorical_accuracy: 1.0000\n",
            "Epoch 32/100\n",
            " - 0s - loss: 0.7462 - accuracy: 0.6667 - top_k_categorical_accuracy: 1.0000 - val_loss: 1.3724 - val_accuracy: 0.4561 - val_top_k_categorical_accuracy: 1.0000\n",
            "Epoch 33/100\n",
            " - 1s - loss: 0.5569 - accuracy: 0.6667 - top_k_categorical_accuracy: 1.0000 - val_loss: 1.3814 - val_accuracy: 0.4561 - val_top_k_categorical_accuracy: 1.0000\n",
            "Epoch 34/100\n",
            " - 0s - loss: 0.7790 - accuracy: 0.6667 - top_k_categorical_accuracy: 1.0000 - val_loss: 1.3885 - val_accuracy: 0.4561 - val_top_k_categorical_accuracy: 1.0000\n",
            "Epoch 35/100\n",
            " - 1s - loss: 0.6132 - accuracy: 0.7619 - top_k_categorical_accuracy: 1.0000 - val_loss: 1.3928 - val_accuracy: 0.4561 - val_top_k_categorical_accuracy: 1.0000\n",
            "Epoch 36/100\n",
            " - 0s - loss: 0.8018 - accuracy: 0.5714 - top_k_categorical_accuracy: 1.0000 - val_loss: 1.3945 - val_accuracy: 0.4561 - val_top_k_categorical_accuracy: 1.0000\n",
            "Epoch 37/100\n",
            " - 0s - loss: 0.6652 - accuracy: 0.7143 - top_k_categorical_accuracy: 1.0000 - val_loss: 1.3970 - val_accuracy: 0.4561 - val_top_k_categorical_accuracy: 1.0000\n",
            "Epoch 38/100\n",
            " - 0s - loss: 0.6980 - accuracy: 0.7143 - top_k_categorical_accuracy: 1.0000 - val_loss: 1.3988 - val_accuracy: 0.4561 - val_top_k_categorical_accuracy: 1.0000\n",
            "Epoch 39/100\n",
            " - 0s - loss: 0.5037 - accuracy: 0.7143 - top_k_categorical_accuracy: 1.0000 - val_loss: 1.3982 - val_accuracy: 0.4561 - val_top_k_categorical_accuracy: 1.0000\n",
            "Epoch 40/100\n",
            " - 1s - loss: 0.6444 - accuracy: 0.6190 - top_k_categorical_accuracy: 1.0000 - val_loss: 1.3970 - val_accuracy: 0.4561 - val_top_k_categorical_accuracy: 1.0000\n",
            "Epoch 41/100\n",
            " - 0s - loss: 0.5761 - accuracy: 0.6190 - top_k_categorical_accuracy: 1.0000 - val_loss: 1.3985 - val_accuracy: 0.4561 - val_top_k_categorical_accuracy: 1.0000\n",
            "Epoch 42/100\n",
            " - 0s - loss: 0.4900 - accuracy: 0.7143 - top_k_categorical_accuracy: 1.0000 - val_loss: 1.4033 - val_accuracy: 0.4561 - val_top_k_categorical_accuracy: 1.0000\n",
            "Epoch 43/100\n",
            " - 0s - loss: 0.6124 - accuracy: 0.7619 - top_k_categorical_accuracy: 1.0000 - val_loss: 1.4062 - val_accuracy: 0.4561 - val_top_k_categorical_accuracy: 1.0000\n",
            "Epoch 44/100\n",
            " - 1s - loss: 0.7265 - accuracy: 0.5714 - top_k_categorical_accuracy: 1.0000 - val_loss: 1.4091 - val_accuracy: 0.4561 - val_top_k_categorical_accuracy: 1.0000\n",
            "Epoch 45/100\n",
            " - 1s - loss: 0.6123 - accuracy: 0.7143 - top_k_categorical_accuracy: 1.0000 - val_loss: 1.4085 - val_accuracy: 0.4561 - val_top_k_categorical_accuracy: 1.0000\n",
            "Epoch 46/100\n",
            " - 1s - loss: 0.8502 - accuracy: 0.5714 - top_k_categorical_accuracy: 1.0000 - val_loss: 1.4107 - val_accuracy: 0.4561 - val_top_k_categorical_accuracy: 1.0000\n",
            "Epoch 47/100\n",
            " - 1s - loss: 0.9040 - accuracy: 0.6667 - top_k_categorical_accuracy: 1.0000 - val_loss: 1.4089 - val_accuracy: 0.4561 - val_top_k_categorical_accuracy: 1.0000\n",
            "Epoch 48/100\n",
            " - 0s - loss: 0.6542 - accuracy: 0.7143 - top_k_categorical_accuracy: 1.0000 - val_loss: 1.4113 - val_accuracy: 0.4561 - val_top_k_categorical_accuracy: 1.0000\n",
            "Epoch 49/100\n",
            " - 0s - loss: 0.6123 - accuracy: 0.7143 - top_k_categorical_accuracy: 1.0000 - val_loss: 1.4179 - val_accuracy: 0.4561 - val_top_k_categorical_accuracy: 1.0000\n",
            "Epoch 50/100\n",
            " - 0s - loss: 0.4977 - accuracy: 0.7143 - top_k_categorical_accuracy: 1.0000 - val_loss: 1.4234 - val_accuracy: 0.4561 - val_top_k_categorical_accuracy: 1.0000\n",
            "Epoch 51/100\n",
            " - 0s - loss: 0.6780 - accuracy: 0.6667 - top_k_categorical_accuracy: 1.0000 - val_loss: 1.4278 - val_accuracy: 0.4561 - val_top_k_categorical_accuracy: 1.0000\n",
            "Epoch 52/100\n",
            " - 0s - loss: 0.7895 - accuracy: 0.5238 - top_k_categorical_accuracy: 1.0000 - val_loss: 1.4322 - val_accuracy: 0.4561 - val_top_k_categorical_accuracy: 1.0000\n",
            "Epoch 53/100\n",
            " - 0s - loss: 0.7112 - accuracy: 0.7143 - top_k_categorical_accuracy: 1.0000 - val_loss: 1.4358 - val_accuracy: 0.4561 - val_top_k_categorical_accuracy: 1.0000\n",
            "Epoch 54/100\n",
            " - 0s - loss: 0.6183 - accuracy: 0.8095 - top_k_categorical_accuracy: 1.0000 - val_loss: 1.4449 - val_accuracy: 0.4561 - val_top_k_categorical_accuracy: 1.0000\n",
            "Epoch 55/100\n",
            " - 0s - loss: 0.6845 - accuracy: 0.6667 - top_k_categorical_accuracy: 1.0000 - val_loss: 1.4519 - val_accuracy: 0.4561 - val_top_k_categorical_accuracy: 1.0000\n",
            "Epoch 56/100\n",
            " - 1s - loss: 0.7594 - accuracy: 0.6667 - top_k_categorical_accuracy: 1.0000 - val_loss: 1.4520 - val_accuracy: 0.4561 - val_top_k_categorical_accuracy: 1.0000\n",
            "Epoch 57/100\n",
            " - 1s - loss: 0.6676 - accuracy: 0.6190 - top_k_categorical_accuracy: 1.0000 - val_loss: 1.4482 - val_accuracy: 0.4561 - val_top_k_categorical_accuracy: 1.0000\n",
            "Epoch 58/100\n",
            " - 0s - loss: 1.0078 - accuracy: 0.6190 - top_k_categorical_accuracy: 1.0000 - val_loss: 1.4432 - val_accuracy: 0.4561 - val_top_k_categorical_accuracy: 1.0000\n",
            "Epoch 59/100\n",
            " - 1s - loss: 0.5986 - accuracy: 0.7143 - top_k_categorical_accuracy: 1.0000 - val_loss: 1.4360 - val_accuracy: 0.4561 - val_top_k_categorical_accuracy: 1.0000\n",
            "Epoch 60/100\n",
            " - 0s - loss: 0.7276 - accuracy: 0.6190 - top_k_categorical_accuracy: 1.0000 - val_loss: 1.4336 - val_accuracy: 0.4561 - val_top_k_categorical_accuracy: 1.0000\n",
            "Epoch 61/100\n",
            " - 0s - loss: 0.5565 - accuracy: 0.7619 - top_k_categorical_accuracy: 1.0000 - val_loss: 1.4328 - val_accuracy: 0.4561 - val_top_k_categorical_accuracy: 1.0000\n",
            "Epoch 62/100\n",
            " - 1s - loss: 0.8397 - accuracy: 0.6667 - top_k_categorical_accuracy: 1.0000 - val_loss: 1.4319 - val_accuracy: 0.4561 - val_top_k_categorical_accuracy: 1.0000\n",
            "Epoch 63/100\n",
            " - 0s - loss: 0.8561 - accuracy: 0.6667 - top_k_categorical_accuracy: 1.0000 - val_loss: 1.4334 - val_accuracy: 0.4561 - val_top_k_categorical_accuracy: 1.0000\n",
            "Epoch 64/100\n",
            " - 0s - loss: 0.6536 - accuracy: 0.6667 - top_k_categorical_accuracy: 1.0000 - val_loss: 1.4347 - val_accuracy: 0.4561 - val_top_k_categorical_accuracy: 1.0000\n",
            "Epoch 65/100\n",
            " - 0s - loss: 0.6161 - accuracy: 0.6190 - top_k_categorical_accuracy: 1.0000 - val_loss: 1.4366 - val_accuracy: 0.4561 - val_top_k_categorical_accuracy: 1.0000\n",
            "Epoch 66/100\n",
            " - 1s - loss: 0.3612 - accuracy: 0.8571 - top_k_categorical_accuracy: 1.0000 - val_loss: 1.4404 - val_accuracy: 0.4561 - val_top_k_categorical_accuracy: 1.0000\n",
            "Epoch 67/100\n",
            " - 0s - loss: 0.4725 - accuracy: 0.7619 - top_k_categorical_accuracy: 1.0000 - val_loss: 1.4430 - val_accuracy: 0.4561 - val_top_k_categorical_accuracy: 1.0000\n",
            "Epoch 68/100\n",
            " - 0s - loss: 0.7200 - accuracy: 0.6667 - top_k_categorical_accuracy: 1.0000 - val_loss: 1.4456 - val_accuracy: 0.4561 - val_top_k_categorical_accuracy: 1.0000\n",
            "Epoch 69/100\n",
            " - 0s - loss: 0.5234 - accuracy: 0.6667 - top_k_categorical_accuracy: 1.0000 - val_loss: 1.4495 - val_accuracy: 0.4561 - val_top_k_categorical_accuracy: 1.0000\n",
            "Epoch 70/100\n",
            " - 1s - loss: 0.6298 - accuracy: 0.6667 - top_k_categorical_accuracy: 1.0000 - val_loss: 1.4514 - val_accuracy: 0.4561 - val_top_k_categorical_accuracy: 1.0000\n",
            "Epoch 71/100\n",
            " - 0s - loss: 0.5985 - accuracy: 0.7143 - top_k_categorical_accuracy: 1.0000 - val_loss: 1.4567 - val_accuracy: 0.4561 - val_top_k_categorical_accuracy: 1.0000\n",
            "Epoch 72/100\n",
            " - 0s - loss: 0.7006 - accuracy: 0.7143 - top_k_categorical_accuracy: 1.0000 - val_loss: 1.4652 - val_accuracy: 0.4561 - val_top_k_categorical_accuracy: 1.0000\n",
            "Epoch 73/100\n",
            " - 0s - loss: 0.8777 - accuracy: 0.5238 - top_k_categorical_accuracy: 1.0000 - val_loss: 1.4731 - val_accuracy: 0.4561 - val_top_k_categorical_accuracy: 1.0000\n",
            "Epoch 74/100\n",
            " - 1s - loss: 0.6527 - accuracy: 0.7143 - top_k_categorical_accuracy: 1.0000 - val_loss: 1.4755 - val_accuracy: 0.4561 - val_top_k_categorical_accuracy: 1.0000\n",
            "Epoch 75/100\n",
            " - 0s - loss: 0.8240 - accuracy: 0.6667 - top_k_categorical_accuracy: 1.0000 - val_loss: 1.4747 - val_accuracy: 0.4561 - val_top_k_categorical_accuracy: 1.0000\n",
            "Epoch 76/100\n",
            " - 1s - loss: 0.5879 - accuracy: 0.7619 - top_k_categorical_accuracy: 1.0000 - val_loss: 1.4759 - val_accuracy: 0.4561 - val_top_k_categorical_accuracy: 1.0000\n",
            "Epoch 77/100\n",
            " - 1s - loss: 0.6620 - accuracy: 0.7143 - top_k_categorical_accuracy: 1.0000 - val_loss: 1.4813 - val_accuracy: 0.4561 - val_top_k_categorical_accuracy: 1.0000\n",
            "Epoch 78/100\n",
            " - 0s - loss: 0.5296 - accuracy: 0.7619 - top_k_categorical_accuracy: 1.0000 - val_loss: 1.4855 - val_accuracy: 0.4561 - val_top_k_categorical_accuracy: 1.0000\n",
            "Epoch 79/100\n",
            " - 0s - loss: 0.6919 - accuracy: 0.7143 - top_k_categorical_accuracy: 1.0000 - val_loss: 1.4828 - val_accuracy: 0.4561 - val_top_k_categorical_accuracy: 1.0000\n",
            "Epoch 80/100\n",
            " - 0s - loss: 0.7381 - accuracy: 0.6667 - top_k_categorical_accuracy: 1.0000 - val_loss: 1.4815 - val_accuracy: 0.4561 - val_top_k_categorical_accuracy: 1.0000\n",
            "Epoch 81/100\n",
            " - 0s - loss: 0.4835 - accuracy: 0.7619 - top_k_categorical_accuracy: 1.0000 - val_loss: 1.4801 - val_accuracy: 0.4561 - val_top_k_categorical_accuracy: 1.0000\n",
            "Epoch 82/100\n",
            " - 0s - loss: 0.7687 - accuracy: 0.6190 - top_k_categorical_accuracy: 1.0000 - val_loss: 1.4783 - val_accuracy: 0.4561 - val_top_k_categorical_accuracy: 1.0000\n",
            "Epoch 83/100\n",
            " - 0s - loss: 0.4153 - accuracy: 0.7619 - top_k_categorical_accuracy: 1.0000 - val_loss: 1.4723 - val_accuracy: 0.4561 - val_top_k_categorical_accuracy: 1.0000\n",
            "Epoch 84/100\n",
            " - 1s - loss: 0.5869 - accuracy: 0.7619 - top_k_categorical_accuracy: 1.0000 - val_loss: 1.4658 - val_accuracy: 0.4561 - val_top_k_categorical_accuracy: 1.0000\n",
            "Epoch 85/100\n",
            " - 0s - loss: 0.8949 - accuracy: 0.6667 - top_k_categorical_accuracy: 1.0000 - val_loss: 1.4619 - val_accuracy: 0.4561 - val_top_k_categorical_accuracy: 1.0000\n",
            "Epoch 86/100\n",
            " - 0s - loss: 0.5823 - accuracy: 0.7143 - top_k_categorical_accuracy: 1.0000 - val_loss: 1.4609 - val_accuracy: 0.4561 - val_top_k_categorical_accuracy: 1.0000\n",
            "Epoch 87/100\n",
            " - 0s - loss: 0.4144 - accuracy: 0.7619 - top_k_categorical_accuracy: 1.0000 - val_loss: 1.4592 - val_accuracy: 0.4561 - val_top_k_categorical_accuracy: 1.0000\n",
            "Epoch 88/100\n",
            " - 1s - loss: 0.6195 - accuracy: 0.6667 - top_k_categorical_accuracy: 1.0000 - val_loss: 1.4559 - val_accuracy: 0.4561 - val_top_k_categorical_accuracy: 1.0000\n",
            "Epoch 89/100\n",
            " - 0s - loss: 0.6521 - accuracy: 0.7143 - top_k_categorical_accuracy: 1.0000 - val_loss: 1.4553 - val_accuracy: 0.4561 - val_top_k_categorical_accuracy: 1.0000\n",
            "Epoch 90/100\n",
            " - 0s - loss: 0.6561 - accuracy: 0.6667 - top_k_categorical_accuracy: 1.0000 - val_loss: 1.4537 - val_accuracy: 0.4561 - val_top_k_categorical_accuracy: 1.0000\n",
            "Epoch 91/100\n",
            " - 0s - loss: 0.6999 - accuracy: 0.6667 - top_k_categorical_accuracy: 1.0000 - val_loss: 1.4492 - val_accuracy: 0.4561 - val_top_k_categorical_accuracy: 1.0000\n",
            "Epoch 92/100\n",
            " - 0s - loss: 0.6105 - accuracy: 0.7143 - top_k_categorical_accuracy: 1.0000 - val_loss: 1.4460 - val_accuracy: 0.4561 - val_top_k_categorical_accuracy: 1.0000\n",
            "Epoch 93/100\n",
            " - 0s - loss: 0.5567 - accuracy: 0.7143 - top_k_categorical_accuracy: 1.0000 - val_loss: 1.4460 - val_accuracy: 0.4561 - val_top_k_categorical_accuracy: 1.0000\n",
            "Epoch 94/100\n",
            " - 0s - loss: 0.6456 - accuracy: 0.7143 - top_k_categorical_accuracy: 1.0000 - val_loss: 1.4473 - val_accuracy: 0.4561 - val_top_k_categorical_accuracy: 1.0000\n",
            "Epoch 95/100\n",
            " - 0s - loss: 0.6819 - accuracy: 0.7143 - top_k_categorical_accuracy: 1.0000 - val_loss: 1.4480 - val_accuracy: 0.4561 - val_top_k_categorical_accuracy: 1.0000\n",
            "Epoch 96/100\n",
            " - 0s - loss: 0.7607 - accuracy: 0.6190 - top_k_categorical_accuracy: 1.0000 - val_loss: 1.4501 - val_accuracy: 0.4561 - val_top_k_categorical_accuracy: 1.0000\n",
            "Epoch 97/100\n",
            " - 0s - loss: 0.5898 - accuracy: 0.7143 - top_k_categorical_accuracy: 1.0000 - val_loss: 1.4534 - val_accuracy: 0.4561 - val_top_k_categorical_accuracy: 1.0000\n",
            "Epoch 98/100\n",
            " - 0s - loss: 0.5722 - accuracy: 0.6190 - top_k_categorical_accuracy: 1.0000 - val_loss: 1.4546 - val_accuracy: 0.4561 - val_top_k_categorical_accuracy: 1.0000\n",
            "Epoch 99/100\n",
            " - 0s - loss: 0.5201 - accuracy: 0.7143 - top_k_categorical_accuracy: 1.0000 - val_loss: 1.4554 - val_accuracy: 0.4561 - val_top_k_categorical_accuracy: 1.0000\n",
            "Epoch 100/100\n",
            " - 0s - loss: 0.6048 - accuracy: 0.6190 - top_k_categorical_accuracy: 1.0000 - val_loss: 1.4556 - val_accuracy: 0.4503 - val_top_k_categorical_accuracy: 1.0000\n"
          ],
          "name": "stdout"
        }
      ]
    },
    {
      "cell_type": "code",
      "metadata": {
        "id": "adXVxAIHCf7O",
        "colab_type": "code",
        "outputId": "24dbb1cd-a2d4-43b6-9678-5aaf72405bd5",
        "colab": {
          "base_uri": "https://localhost:8080/",
          "height": 34
        }
      },
      "source": [
        "!ls"
      ],
      "execution_count": 0,
      "outputs": [
        {
          "output_type": "stream",
          "text": [
            "test_8.h5  train_8.h5\n"
          ],
          "name": "stdout"
        }
      ]
    },
    {
      "cell_type": "code",
      "metadata": {
        "id": "EqkeAXKXjq6S",
        "colab_type": "code",
        "colab": {}
      },
      "source": [
        ""
      ],
      "execution_count": 0,
      "outputs": []
    }
  ]
}