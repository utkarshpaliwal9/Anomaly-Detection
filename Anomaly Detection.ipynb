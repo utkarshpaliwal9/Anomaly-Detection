{
  "nbformat": 4,
  "nbformat_minor": 0,
  "metadata": {
    "colab": {
      "name": "Major project.ipynb",
      "provenance": [],
      "collapsed_sections": [],
      "authorship_tag": "ABX9TyOL+3/MjgdWaTB/Hdx4LOoH",
      "include_colab_link": true
    },
    "kernelspec": {
      "name": "python3",
      "display_name": "Python 3"
    }
  },
  "cells": [
    {
      "cell_type": "markdown",
      "metadata": {
        "id": "view-in-github",
        "colab_type": "text"
      },
      "source": [
        "<a href=\"https://colab.research.google.com/github/utkarshpaliwal9/Anomaly-Detection/blob/master/Anomaly%20Detection.ipynb\" target=\"_parent\"><img src=\"https://colab.research.google.com/assets/colab-badge.svg\" alt=\"Open In Colab\"/></a>"
      ]
    },
    {
      "cell_type": "code",
      "metadata": {
        "id": "BIt15D3m3cun",
        "colab_type": "code",
        "outputId": "d7fdcd15-6817-410b-c26b-3b40fcb089e3",
        "colab": {
          "base_uri": "https://localhost:8080/",
          "height": 121
        }
      },
      "source": [
        "from google.colab import drive\n",
        "drive.mount('/content/drive')"
      ],
      "execution_count": 1,
      "outputs": [
        {
          "output_type": "stream",
          "text": [
            "Go to this URL in a browser: https://accounts.google.com/o/oauth2/auth?client_id=947318989803-6bn6qk8qdgf4n4g3pfee6491hc0brc4i.apps.googleusercontent.com&redirect_uri=urn%3aietf%3awg%3aoauth%3a2.0%3aoob&response_type=code&scope=email%20https%3a%2f%2fwww.googleapis.com%2fauth%2fdocs.test%20https%3a%2f%2fwww.googleapis.com%2fauth%2fdrive%20https%3a%2f%2fwww.googleapis.com%2fauth%2fdrive.photos.readonly%20https%3a%2f%2fwww.googleapis.com%2fauth%2fpeopleapi.readonly\n",
            "\n",
            "Enter your authorization code:\n",
            "··········\n",
            "Mounted at /content/drive\n"
          ],
          "name": "stdout"
        }
      ]
    },
    {
      "cell_type": "code",
      "metadata": {
        "id": "Ug7YMTZ7VELX",
        "colab_type": "code",
        "outputId": "5ba2086f-9225-4921-a784-0ac96bb05fa0",
        "colab": {
          "base_uri": "https://localhost:8080/",
          "height": 222
        }
      },
      "source": [
        "# !wget \"https://uc56f5099bb273efb6ae5f378ae8.dl.dropboxusercontent.com/cd/0/get/AwMS2jll2ZsP5gXt8WYNIgJbnEJbN2IDPlt7i8s3RE2wvZ-MLknoXSxdI4SY68PjsyuZeJ8hS4_Umu0YG5A6t8qnf7FDiE5NbOwLTKR9m-Op5A/file?_download_id=26842697584487140544307203506444460731291696667291107310867088734785&_notify_domain=www.dropbox.com&dl=1\""
      ],
      "execution_count": 0,
      "outputs": [
        {
          "output_type": "stream",
          "text": [
            "--2020-01-15 13:40:39--  https://uc56f5099bb273efb6ae5f378ae8.dl.dropboxusercontent.com/cd/0/get/AwMS2jll2ZsP5gXt8WYNIgJbnEJbN2IDPlt7i8s3RE2wvZ-MLknoXSxdI4SY68PjsyuZeJ8hS4_Umu0YG5A6t8qnf7FDiE5NbOwLTKR9m-Op5A/file?_download_id=26842697584487140544307203506444460731291696667291107310867088734785&_notify_domain=www.dropbox.com&dl=1\n",
            "Resolving uc56f5099bb273efb6ae5f378ae8.dl.dropboxusercontent.com (uc56f5099bb273efb6ae5f378ae8.dl.dropboxusercontent.com)... 162.125.1.6, 2620:100:6016:6::a27d:106\n",
            "Connecting to uc56f5099bb273efb6ae5f378ae8.dl.dropboxusercontent.com (uc56f5099bb273efb6ae5f378ae8.dl.dropboxusercontent.com)|162.125.1.6|:443... connected.\n",
            "HTTP request sent, awaiting response... 200 OK\n",
            "Length: 70394 (69K) [application/binary]\n",
            "Saving to: ‘file?_download_id=26842697584487140544307203506444460731291696667291107310867088734785&_notify_domain=www.dropbox.com&dl=1’\n",
            "\n",
            "\r          file?_dow   0%[                    ]       0  --.-KB/s               \rfile?_download_id=2 100%[===================>]  68.74K  --.-KB/s    in 0.01s   \n",
            "\n",
            "2020-01-15 13:40:40 (4.50 MB/s) - ‘file?_download_id=26842697584487140544307203506444460731291696667291107310867088734785&_notify_domain=www.dropbox.com&dl=1’ saved [70394/70394]\n",
            "\n"
          ],
          "name": "stdout"
        }
      ]
    },
    {
      "cell_type": "code",
      "metadata": {
        "id": "DbfYsvAHTiVn",
        "colab_type": "code",
        "outputId": "6cd76249-fcce-40f4-c652-d60c3066f012",
        "colab": {
          "base_uri": "https://localhost:8080/",
          "height": 390
        }
      },
      "source": [
        "# !wget --no-check-certificate \"https://uc50213ee5ba4f5b53184877b462.dl.dropboxusercontent.com/cd/0/get/AwOMV7HYB99EP3qJfiNjSPSS6XXB-FMWrLF4m3MJdBo_0-XUlCCxZTgjA82ko__EvSyFv5CdudBGGSibF9XRYWQfe-D1VnlNTda562xwH1IHww/file?_download_id=506935986253414526729073992478660161518623505098054952831654550397&_notify_domain=www.dropbox.com&dl=1\""
      ],
      "execution_count": 0,
      "outputs": [
        {
          "output_type": "stream",
          "text": [
            "--2020-01-15 13:57:47--  https://uc50213ee5ba4f5b53184877b462.dl.dropboxusercontent.com/cd/0/get/AwOMV7HYB99EP3qJfiNjSPSS6XXB-FMWrLF4m3MJdBo_0-XUlCCxZTgjA82ko__EvSyFv5CdudBGGSibF9XRYWQfe-D1VnlNTda562xwH1IHww/file?_download_id=506935986253414526729073992478660161518623505098054952831654550397&_notify_domain=www.dropbox.com&dl=1\n",
            "Resolving uc50213ee5ba4f5b53184877b462.dl.dropboxusercontent.com (uc50213ee5ba4f5b53184877b462.dl.dropboxusercontent.com)... 162.125.1.6, 2620:100:601b:6::a27d:806\n",
            "Connecting to uc50213ee5ba4f5b53184877b462.dl.dropboxusercontent.com (uc50213ee5ba4f5b53184877b462.dl.dropboxusercontent.com)|162.125.1.6|:443... connected.\n",
            "HTTP request sent, awaiting response... 200 OK\n",
            "Length: 6272044173 (5.8G) [application/binary]\n",
            "Saving to: ‘file?_download_id=506935986253414526729073992478660161518623505098054952831654550397&_notify_domain=www.dropbox.com&dl=1’\n",
            "\n",
            "file?_download_id=5  19%[==>                 ]   1.15G   328KB/s    in 90s     \n",
            "\n",
            "2020-01-15 13:59:32 (13.1 MB/s) - Connection closed at byte 1236920467. Retrying.\n",
            "\n",
            "--2020-01-15 13:59:33--  (try: 2)  https://uc50213ee5ba4f5b53184877b462.dl.dropboxusercontent.com/cd/0/get/AwOMV7HYB99EP3qJfiNjSPSS6XXB-FMWrLF4m3MJdBo_0-XUlCCxZTgjA82ko__EvSyFv5CdudBGGSibF9XRYWQfe-D1VnlNTda562xwH1IHww/file?_download_id=506935986253414526729073992478660161518623505098054952831654550397&_notify_domain=www.dropbox.com&dl=1\n",
            "Connecting to uc50213ee5ba4f5b53184877b462.dl.dropboxusercontent.com (uc50213ee5ba4f5b53184877b462.dl.dropboxusercontent.com)|162.125.1.6|:443... connected.\n",
            "HTTP request sent, awaiting response... 206 PARTIAL CONTENT\n",
            "Length: 6272044173 (5.8G), 5035123706 (4.7G) remaining [application/binary]\n",
            "Saving to: ‘file?_download_id=506935986253414526729073992478660161518623505098054952831654550397&_notify_domain=www.dropbox.com&dl=1’\n",
            "\n",
            "file?_download_id=5 100%[+++================>]   5.84G  24.7MB/s    in 4m 28s  \n",
            "\n",
            "2020-01-15 14:04:02 (17.9 MB/s) - ‘file?_download_id=506935986253414526729073992478660161518623505098054952831654550397&_notify_domain=www.dropbox.com&dl=1’ saved [6272044173/6272044173]\n",
            "\n"
          ],
          "name": "stdout"
        }
      ]
    },
    {
      "cell_type": "code",
      "metadata": {
        "id": "HMejaA1PwYGY",
        "colab_type": "code",
        "outputId": "3e48cbbc-6479-46c7-c579-db51a0ccfadf",
        "colab": {
          "base_uri": "https://localhost:8080/",
          "height": 222
        }
      },
      "source": [
        "# !wget --no-check-certificate \"https://uc35d8e1ab645d362f5e62baef07.dl.dropboxusercontent.com/cd/0/get/AwP1ZZq4MZP3D4_Qmd0bKaDgOnn1E_08Q59OciHYoavjk1pBc8cGbrlcZrbEkasy0ZNlY9pjMBoIe60x-SYEhPiQnCnP6yvc1AMW1ixcSjWiyA/file?_download_id=227332736045446681711471496235872421701305790600816212777490604019&_notify_domain=www.dropbox.com&dl=1\""
      ],
      "execution_count": 0,
      "outputs": [
        {
          "output_type": "stream",
          "text": [
            "--2020-01-15 16:01:26--  https://uc35d8e1ab645d362f5e62baef07.dl.dropboxusercontent.com/cd/0/get/AwP1ZZq4MZP3D4_Qmd0bKaDgOnn1E_08Q59OciHYoavjk1pBc8cGbrlcZrbEkasy0ZNlY9pjMBoIe60x-SYEhPiQnCnP6yvc1AMW1ixcSjWiyA/file?_download_id=227332736045446681711471496235872421701305790600816212777490604019&_notify_domain=www.dropbox.com&dl=1\n",
            "Resolving uc35d8e1ab645d362f5e62baef07.dl.dropboxusercontent.com (uc35d8e1ab645d362f5e62baef07.dl.dropboxusercontent.com)... 162.125.8.6, 2620:100:601b:6::a27d:806\n",
            "Connecting to uc35d8e1ab645d362f5e62baef07.dl.dropboxusercontent.com (uc35d8e1ab645d362f5e62baef07.dl.dropboxusercontent.com)|162.125.8.6|:443... connected.\n",
            "HTTP request sent, awaiting response... 200 OK\n",
            "Length: 6693096368 (6.2G) [application/binary]\n",
            "Saving to: ‘file?_download_id=227332736045446681711471496235872421701305790600816212777490604019&_notify_domain=www.dropbox.com&dl=1.1’\n",
            "\n",
            "file?_download_id=2 100%[===================>]   6.23G  33.1MB/s    in 4m 7s   \n",
            "\n",
            "2020-01-15 16:05:34 (25.9 MB/s) - ‘file?_download_id=227332736045446681711471496235872421701305790600816212777490604019&_notify_domain=www.dropbox.com&dl=1.1’ saved [6693096368/6693096368]\n",
            "\n"
          ],
          "name": "stdout"
        }
      ]
    },
    {
      "cell_type": "code",
      "metadata": {
        "id": "3ZhdieoseHXj",
        "colab_type": "code",
        "colab": {
          "base_uri": "https://localhost:8080/",
          "height": 726
        },
        "outputId": "4483cf22-dadd-4f90-af47-bb051e509ace"
      },
      "source": [
        "!wget \"https://uc2a897141eb02365a41bcc45e32.dl.dropboxusercontent.com/cd/0/get/AwOK07zn2vhdSuuP42CCOHMn4Xrd4DWjeoD13ul1CI6BMfeqh3UhrSlUfQoimfJx44F4xlBhhAOGS2VrJNbUN9qI1p1c3N9R0qzcvpSmcb2KHA/file?_download_id=41246243229563876909263183277312253646512224200655360698624314548&_notify_domain=www.dropbox.com&dl=1\""
      ],
      "execution_count": 80,
      "outputs": [
        {
          "output_type": "stream",
          "text": [
            "--2020-01-15 19:21:04--  https://uc2a897141eb02365a41bcc45e32.dl.dropboxusercontent.com/cd/0/get/AwOK07zn2vhdSuuP42CCOHMn4Xrd4DWjeoD13ul1CI6BMfeqh3UhrSlUfQoimfJx44F4xlBhhAOGS2VrJNbUN9qI1p1c3N9R0qzcvpSmcb2KHA/file?_download_id=41246243229563876909263183277312253646512224200655360698624314548&_notify_domain=www.dropbox.com&dl=1\n",
            "Resolving uc2a897141eb02365a41bcc45e32.dl.dropboxusercontent.com (uc2a897141eb02365a41bcc45e32.dl.dropboxusercontent.com)... 162.125.1.6, 2620:100:6016:6::a27d:106\n",
            "Connecting to uc2a897141eb02365a41bcc45e32.dl.dropboxusercontent.com (uc2a897141eb02365a41bcc45e32.dl.dropboxusercontent.com)|162.125.1.6|:443... connected.\n",
            "HTTP request sent, awaiting response... 200 OK\n",
            "Length: 38072348701 (35G) [application/binary]\n",
            "Saving to: ‘file?_download_id=41246243229563876909263183277312253646512224200655360698624314548&_notify_domain=www.dropbox.com&dl=1’\n",
            "\n",
            "file?_download_id=4  37%[======>             ]  13.23G  --.-KB/s    in 14m 46s \n",
            "\n",
            "2020-01-15 19:35:51 (15.3 MB/s) - Connection closed at byte 14207155493. Retrying.\n",
            "\n",
            "--2020-01-15 19:35:52--  (try: 2)  https://uc2a897141eb02365a41bcc45e32.dl.dropboxusercontent.com/cd/0/get/AwOK07zn2vhdSuuP42CCOHMn4Xrd4DWjeoD13ul1CI6BMfeqh3UhrSlUfQoimfJx44F4xlBhhAOGS2VrJNbUN9qI1p1c3N9R0qzcvpSmcb2KHA/file?_download_id=41246243229563876909263183277312253646512224200655360698624314548&_notify_domain=www.dropbox.com&dl=1\n",
            "Connecting to uc2a897141eb02365a41bcc45e32.dl.dropboxusercontent.com (uc2a897141eb02365a41bcc45e32.dl.dropboxusercontent.com)|162.125.1.6|:443... connected.\n",
            "HTTP request sent, awaiting response... 206 PARTIAL CONTENT\n",
            "Length: 38072348701 (35G), 23865193208 (22G) remaining [application/binary]\n",
            "Saving to: ‘file?_download_id=41246243229563876909263183277312253646512224200655360698624314548&_notify_domain=www.dropbox.com&dl=1’\n",
            "\n",
            "file?_download_id=4  37%[+++++++             ]  13.29G   464KB/s    in 80s     \n",
            "\n",
            "2020-01-15 19:37:14 (804 KB/s) - Connection closed at byte 14273217446. Retrying.\n",
            "\n",
            "--2020-01-15 19:37:16--  (try: 3)  https://uc2a897141eb02365a41bcc45e32.dl.dropboxusercontent.com/cd/0/get/AwOK07zn2vhdSuuP42CCOHMn4Xrd4DWjeoD13ul1CI6BMfeqh3UhrSlUfQoimfJx44F4xlBhhAOGS2VrJNbUN9qI1p1c3N9R0qzcvpSmcb2KHA/file?_download_id=41246243229563876909263183277312253646512224200655360698624314548&_notify_domain=www.dropbox.com&dl=1\n",
            "Connecting to uc2a897141eb02365a41bcc45e32.dl.dropboxusercontent.com (uc2a897141eb02365a41bcc45e32.dl.dropboxusercontent.com)|162.125.1.6|:443... connected.\n",
            "HTTP request sent, awaiting response... 206 PARTIAL CONTENT\n",
            "Length: 38072348701 (35G), 23799131255 (22G) remaining [application/binary]\n",
            "Saving to: ‘file?_download_id=41246243229563876909263183277312253646512224200655360698624314548&_notify_domain=www.dropbox.com&dl=1’\n",
            "\n",
            "file?_download_id=4  56%[+++++++===>         ]  20.16G   590KB/s    in 9m 18s  \n",
            "\n",
            "2020-01-15 19:46:35 (12.6 MB/s) - Connection closed at byte 21646803878. Retrying.\n",
            "\n",
            "--2020-01-15 19:46:38--  (try: 4)  https://uc2a897141eb02365a41bcc45e32.dl.dropboxusercontent.com/cd/0/get/AwOK07zn2vhdSuuP42CCOHMn4Xrd4DWjeoD13ul1CI6BMfeqh3UhrSlUfQoimfJx44F4xlBhhAOGS2VrJNbUN9qI1p1c3N9R0qzcvpSmcb2KHA/file?_download_id=41246243229563876909263183277312253646512224200655360698624314548&_notify_domain=www.dropbox.com&dl=1\n",
            "Connecting to uc2a897141eb02365a41bcc45e32.dl.dropboxusercontent.com (uc2a897141eb02365a41bcc45e32.dl.dropboxusercontent.com)|162.125.1.6|:443... connected.\n",
            "HTTP request sent, awaiting response... 206 PARTIAL CONTENT\n",
            "Length: 38072348701 (35G), 16425544823 (15G) remaining [application/binary]\n",
            "Saving to: ‘file?_download_id=41246243229563876909263183277312253646512224200655360698624314548&_notify_domain=www.dropbox.com&dl=1’\n",
            "\n",
            "file?_download_id=4 100%[+++++++++++========>]  35.46G  19.5MB/s    in 20m 10s \n",
            "\n",
            "2020-01-15 20:06:49 (13.0 MB/s) - ‘file?_download_id=41246243229563876909263183277312253646512224200655360698624314548&_notify_domain=www.dropbox.com&dl=1’ saved [38072348701/38072348701]\n",
            "\n"
          ],
          "name": "stdout"
        }
      ]
    },
    {
      "cell_type": "code",
      "metadata": {
        "id": "V4AXZW4wUKSd",
        "colab_type": "code",
        "colab": {}
      },
      "source": [
        "\n",
        "import torch\n",
        "from torch.autograd import variable\n",
        "import cv2\n",
        "import data\n",
        "import imageio"
      ],
      "execution_count": 0,
      "outputs": []
    },
    {
      "cell_type": "code",
      "metadata": {
        "colab_type": "code",
        "id": "bGnpDranOCND",
        "colab": {}
      },
      "source": [
        "!cp '/content/drive/My Drive/Colab Notebooks/anomaly_videos2' anomaly_videos2"
      ],
      "execution_count": 0,
      "outputs": []
    },
    {
      "cell_type": "code",
      "metadata": {
        "id": "HVwnjvFNODNb",
        "colab_type": "code",
        "colab": {
          "base_uri": "https://localhost:8080/",
          "height": 134
        },
        "outputId": "0c78b58f-623a-4864-fd40-c07df40a09ab"
      },
      "source": [
        "with open ('/content/drive/My Drive/Colab Notebooks/anomaly_videos2', 'w') as anomaly_videos2:\n",
        "  !unzip anomaly_videos2"
      ],
      "execution_count": 79,
      "outputs": [
        {
          "output_type": "stream",
          "text": [
            "Archive:  anomaly_videos2\n",
            "  End-of-central-directory signature not found.  Either this file is not\n",
            "  a zipfile, or it constitutes one disk of a multi-part archive.  In the\n",
            "  latter case the central directory and zipfile comment will be found on\n",
            "  the last disk(s) of this archive.\n",
            "unzip:  cannot find zipfile directory in one of anomaly_videos2 or\n",
            "        anomaly_videos2.zip, and cannot find anomaly_videos2.ZIP, period.\n"
          ],
          "name": "stdout"
        }
      ]
    },
    {
      "cell_type": "code",
      "metadata": {
        "id": "dsrv1BmNLqfr",
        "colab_type": "code",
        "colab": {
          "base_uri": "https://localhost:8080/",
          "height": 34
        },
        "outputId": "37cf7665-1b5f-42f5-d5f3-2aac7c8408eb"
      },
      "source": [
        "with open('/content/drive/My Drive/Project/Anomaly-Videos-Part-1/Abuse/Abuse001_x264.mp4') as video:\n",
        "  print(type(video))"
      ],
      "execution_count": 66,
      "outputs": [
        {
          "output_type": "stream",
          "text": [
            "<class '_io.TextIOWrapper'>\n"
          ],
          "name": "stdout"
        }
      ]
    },
    {
      "cell_type": "code",
      "metadata": {
        "id": "kiCI_mmda2V6",
        "colab_type": "code",
        "colab": {}
      },
      "source": [
        ""
      ],
      "execution_count": 0,
      "outputs": []
    }
  ]
}